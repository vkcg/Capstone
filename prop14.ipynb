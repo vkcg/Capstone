{
 "cells": [
  {
   "cell_type": "code",
   "execution_count": null,
   "metadata": {
    "collapsed": true
   },
   "outputs": [],
   "source": [
    "#import libraries\n",
    "import pandas as pd\n",
    "import numpy as np"
   ]
  },
  {
   "cell_type": "code",
   "execution_count": null,
   "metadata": {
    "collapsed": true
   },
   "outputs": [],
   "source": [
    "#Read tsv file\n",
    "dataFrame = pd.read_csv(\"version1/reducedusersrows.tsv\", sep = \"\\t\", header=0, encoding = \"latin1\")"
   ]
  },
  {
   "cell_type": "code",
   "execution_count": null,
   "metadata": {
    "collapsed": true
   },
   "outputs": [],
   "source": [
    "#Retreive user id and events columns\n",
    "prop14Rows = dataFrame[[\"post_uniqueId\",\"post_prop14\"]].reset_index(drop=True)"
   ]
  },
  {
   "cell_type": "code",
   "execution_count": null,
   "metadata": {},
   "outputs": [],
   "source": [
    "prop14Rows"
   ]
  },
  {
   "cell_type": "code",
   "execution_count": null,
   "metadata": {
    "collapsed": true
   },
   "outputs": [],
   "source": [
    "#converting these columns into string type\n",
    "prop14Rows['post_uniqueId'] = prop14Rows['post_uniqueId'].astype(str)\n",
    "prop14Rows['post_prop14'] = prop14Rows['post_prop14'].astype(str)"
   ]
  },
  {
   "cell_type": "code",
   "execution_count": null,
   "metadata": {
    "collapsed": true
   },
   "outputs": [],
   "source": [
    "#Sort the rows by user id\n",
    "prop14RowsSort = prop14Rows.sort_values(by=['post_uniqueId'])\n",
    "prop14RowssSort = prop14RowsSort.reset_index(drop=True)"
   ]
  },
  {
   "cell_type": "code",
   "execution_count": null,
   "metadata": {},
   "outputs": [],
   "source": [
    "#Merge all the events performed by user into single row\n",
    "prop14RowsGroup = prop14RowsSort.groupby(['post_uniqueId'])['post_prop14'].apply(lambda x: '/'.join(x.str.replace('https://www.dell.com/','').str.replace('http://www.dell.com/',''))).reset_index()"
   ]
  },
  {
   "cell_type": "code",
   "execution_count": null,
   "metadata": {},
   "outputs": [],
   "source": [
    "prop14RowsGroup"
   ]
  },
  {
   "cell_type": "code",
   "execution_count": null,
   "metadata": {
    "collapsed": true
   },
   "outputs": [],
   "source": [
    "#create an empty list\n",
    "visitList=[]"
   ]
  },
  {
   "cell_type": "code",
   "execution_count": null,
   "metadata": {},
   "outputs": [],
   "source": [
    "#loop through each cell of prop14 column and remove duplicate events\n",
    "for index, row in prop14RowsGroup.iterrows():\n",
    "    templist = set(pd.Series(prop14RowsGroup['post_prop14'].iloc[index].split('/')).tolist())\n",
    "    visitList.append(\",\".join(templist))\n",
    "    #print(index)"
   ]
  },
  {
   "cell_type": "code",
   "execution_count": null,
   "metadata": {},
   "outputs": [],
   "source": [
    "visitList"
   ]
  },
  {
   "cell_type": "code",
   "execution_count": null,
   "metadata": {},
   "outputs": [],
   "source": [
    "#Assigning visit links which doesnt contain duplicates\n",
    "prop14RowsGroup['post_prop14'] = visitList"
   ]
  },
  {
   "cell_type": "code",
   "execution_count": null,
   "metadata": {},
   "outputs": [],
   "source": [
    "prop14RowsGroup['post_prop14']"
   ]
  },
  {
   "cell_type": "code",
   "execution_count": null,
   "metadata": {
    "collapsed": true
   },
   "outputs": [],
   "source": [
    "#import Counter from library\n",
    "from collections import Counter"
   ]
  },
  {
   "cell_type": "code",
   "execution_count": null,
   "metadata": {},
   "outputs": [],
   "source": [
    "#Get count of visited links\n",
    "visitCount  = pd.Series(prop14RowsGroup['post_prop14'].str.replace('[\\[\\]\\']','').str.split(',').map(Counter).sum())"
   ]
  },
  {
   "cell_type": "code",
   "execution_count": null,
   "metadata": {},
   "outputs": [],
   "source": [
    "visitCount"
   ]
  },
  {
   "cell_type": "code",
   "execution_count": null,
   "metadata": {
    "collapsed": true
   },
   "outputs": [],
   "source": [
    "#Initialize threshold\n",
    "thre1 = 4034/2 #50%\n",
    "thre2 = 4034/8 #12.5%\n",
    "#Filter using the threshold. All the values less than thre will be substitued witn nan values\n",
    "visitCountThre = visitCount.where(visitCount<thre1)"
   ]
  },
  {
   "cell_type": "code",
   "execution_count": null,
   "metadata": {},
   "outputs": [],
   "source": [
    "#Filtering the visits which have ben performed atleast by 25% of users and atmost 50%\n",
    "visitCountThre = visitCountThre.where(visitCount>thre2)"
   ]
  },
  {
   "cell_type": "code",
   "execution_count": null,
   "metadata": {
    "collapsed": true
   },
   "outputs": [],
   "source": [
    "#Remove nan values\n",
    "visitCountThreWithoutNull = visitCountThre.dropna()"
   ]
  },
  {
   "cell_type": "code",
   "execution_count": null,
   "metadata": {
    "collapsed": true
   },
   "outputs": [],
   "source": [
    "#Get all unique visited links after thre\n",
    "visitedList = visitCountThreWithoutNull.index.tolist()"
   ]
  },
  {
   "cell_type": "code",
   "execution_count": null,
   "metadata": {},
   "outputs": [],
   "source": [
    "#Count of visited links\n",
    "len(visitedList)"
   ]
  },
  {
   "cell_type": "code",
   "execution_count": null,
   "metadata": {},
   "outputs": [],
   "source": [
    "visitedList"
   ]
  },
  {
   "cell_type": "code",
   "execution_count": null,
   "metadata": {},
   "outputs": [],
   "source": [
    "#Add the events as columns to dataframe\n",
    "for i in visitedList:\n",
    "    name = 'prop14_'+i\n",
    "    prop14RowsGroup[name] = 0"
   ]
  },
  {
   "cell_type": "code",
   "execution_count": null,
   "metadata": {},
   "outputs": [],
   "source": [
    "for index, row in prop14RowsGroup.iterrows():\n",
    "    templist = pd.Series(prop14RowsGroup['post_prop14'].iloc[index].split(',')).tolist()\n",
    "    print(index)\n",
    "    commonlist = [value for value in visitedList if value in templist]\n",
    "    for event in commonlist:\n",
    "        colname = 'prop14_'+event\n",
    "        prop14RowsGroup[colname].iloc[index] = 1"
   ]
  },
  {
   "cell_type": "code",
   "execution_count": null,
   "metadata": {},
   "outputs": [],
   "source": [
    "prop14RowsGroup"
   ]
  },
  {
   "cell_type": "code",
   "execution_count": null,
   "metadata": {
    "collapsed": true
   },
   "outputs": [],
   "source": [
    "#Save dataframe to a tsv file\n",
    "prop14RowsGroup.to_csv(\"version1/flattenprop14.tsv\", sep=\"\\t\", index=False)"
   ]
  },
  {
   "cell_type": "code",
   "execution_count": null,
   "metadata": {
    "collapsed": true
   },
   "outputs": [],
   "source": [
    "#Read the data which is in tsv format\n",
    "dataFrame = pd.read_csv(\"version1/modeldata.tsv\", sep='\\t')"
   ]
  },
  {
   "cell_type": "code",
   "execution_count": null,
   "metadata": {
    "scrolled": true
   },
   "outputs": [],
   "source": [
    "dataFrame"
   ]
  },
  {
   "cell_type": "code",
   "execution_count": null,
   "metadata": {
    "collapsed": true
   },
   "outputs": [],
   "source": [
    "purchased = dataFrame['purchased']"
   ]
  },
  {
   "cell_type": "code",
   "execution_count": null,
   "metadata": {},
   "outputs": [],
   "source": [
    "dataFrame = dataFrame.drop('purchased',1)"
   ]
  },
  {
   "cell_type": "code",
   "execution_count": null,
   "metadata": {},
   "outputs": [],
   "source": [
    "dataFrame"
   ]
  },
  {
   "cell_type": "code",
   "execution_count": null,
   "metadata": {},
   "outputs": [],
   "source": [
    "for name in visitedList:\n",
    "    colname = \"prop14_\"+name\n",
    "    dataFrame[colname] = prop14RowsGroup[colname]"
   ]
  },
  {
   "cell_type": "code",
   "execution_count": null,
   "metadata": {
    "collapsed": true
   },
   "outputs": [],
   "source": [
    "dataFrame['purchased'] = purchased"
   ]
  },
  {
   "cell_type": "code",
   "execution_count": null,
   "metadata": {},
   "outputs": [],
   "source": [
    "dataFrame"
   ]
  },
  {
   "cell_type": "code",
   "execution_count": null,
   "metadata": {
    "collapsed": true
   },
   "outputs": [],
   "source": [
    "#Save dataframe to a tsv file\n",
    "dataFrame.to_csv(\"version1/modeldata1.tsv\", sep=\"\\t\", index=False)"
   ]
  },
  {
   "cell_type": "code",
   "execution_count": null,
   "metadata": {
    "collapsed": true
   },
   "outputs": [],
   "source": []
  }
 ],
 "metadata": {
  "kernelspec": {
   "display_name": "Python 3",
   "language": "python",
   "name": "python3"
  },
  "language_info": {
   "codemirror_mode": {
    "name": "ipython",
    "version": 3
   },
   "file_extension": ".py",
   "mimetype": "text/x-python",
   "name": "python",
   "nbconvert_exporter": "python",
   "pygments_lexer": "ipython3",
   "version": "3.6.3"
  }
 },
 "nbformat": 4,
 "nbformat_minor": 2
}
