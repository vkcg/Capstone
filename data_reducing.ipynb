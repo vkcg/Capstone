{
 "cells": [
  {
   "cell_type": "code",
   "execution_count": null,
   "metadata": {
    "collapsed": true
   },
   "outputs": [],
   "source": [
    "#creating spark instance\n",
    "from pyspark.sql import SparkSession\n",
    "spark = SparkSession .builder.appName('datacleaning').getOrCreate()"
   ]
  },
  {
   "cell_type": "code",
   "execution_count": null,
   "metadata": {
    "collapsed": true
   },
   "outputs": [],
   "source": [
    "#import libraries\n",
    "import pandas as pd\n",
    "import numpy as np"
   ]
  },
  {
   "cell_type": "code",
   "execution_count": null,
   "metadata": {
    "collapsed": true
   },
   "outputs": [],
   "source": [
    "#Read column names\n",
    "headers = spark.read.option(\"sep\", \"\\t\").csv(\"..\\column_headers.tsv\", header=True)"
   ]
  },
  {
   "cell_type": "code",
   "execution_count": null,
   "metadata": {},
   "outputs": [],
   "source": [
    "#print no. of rows\n",
    "headers.count()"
   ]
  },
  {
   "cell_type": "code",
   "execution_count": null,
   "metadata": {
    "collapsed": true
   },
   "outputs": [],
   "source": [
    "#Read data from tsv file\n",
    "rows = spark.read.option(\"sep\", \"\\t\").csv(\"..\\hit_data.tsv\", header=False)"
   ]
  },
  {
   "cell_type": "code",
   "execution_count": null,
   "metadata": {},
   "outputs": [],
   "source": [
    "#print no. of rows\n",
    "rows.count()"
   ]
  },
  {
   "cell_type": "code",
   "execution_count": null,
   "metadata": {
    "collapsed": true
   },
   "outputs": [],
   "source": [
    "#adding header to data\n",
    "data = headers.union(rows)"
   ]
  },
  {
   "cell_type": "code",
   "execution_count": null,
   "metadata": {},
   "outputs": [],
   "source": [
    "#print no. of rows in data\n",
    "data.count()"
   ]
  },
  {
   "cell_type": "code",
   "execution_count": null,
   "metadata": {
    "collapsed": true
   },
   "outputs": [],
   "source": [
    "#data.filter(data.post_prop14.isNull()).count()"
   ]
  },
  {
   "cell_type": "code",
   "execution_count": null,
   "metadata": {},
   "outputs": [],
   "source": [
    "#print column names\n",
    "data.schema.names"
   ]
  },
  {
   "cell_type": "code",
   "execution_count": null,
   "metadata": {
    "collapsed": true
   },
   "outputs": [],
   "source": [
    "#selecting coloumn exclude_hit\n",
    "al = data.select(['exclude_hit'])"
   ]
  },
  {
   "cell_type": "code",
   "execution_count": null,
   "metadata": {
    "collapsed": true
   },
   "outputs": [],
   "source": [
    "data = data.filter(data.exclude_hit<=0)"
   ]
  },
  {
   "cell_type": "code",
   "execution_count": null,
   "metadata": {},
   "outputs": [],
   "source": [
    "#print no. of rows\n",
    "data.count()"
   ]
  },
  {
   "cell_type": "code",
   "execution_count": null,
   "metadata": {
    "collapsed": true
   },
   "outputs": [],
   "source": [
    "#filtering rows based on hit_source column value. Exclude all rows with hit_source = 5,7,8,9.\n",
    "data = data.filter(data.hit_source!=5)\n",
    "data = data.filter(data.hit_source!=7)\n",
    "data = data.filter(data.hit_source!=8)\n",
    "data = data.filter(data.hit_source!=9)"
   ]
  },
  {
   "cell_type": "code",
   "execution_count": null,
   "metadata": {},
   "outputs": [],
   "source": [
    "#Print no. of columns\n",
    "len(data.columns)"
   ]
  },
  {
   "cell_type": "code",
   "execution_count": null,
   "metadata": {
    "collapsed": true
   },
   "outputs": [],
   "source": [
    "#Selecting only post columns\n",
    "dataPost = data.select(*filter(lambda col: 'post_' in col,data.columns))"
   ]
  },
  {
   "cell_type": "code",
   "execution_count": null,
   "metadata": {},
   "outputs": [],
   "source": [
    "#Printing no. of columns\n",
    "len(dataPost.columns)"
   ]
  },
  {
   "cell_type": "code",
   "execution_count": null,
   "metadata": {},
   "outputs": [],
   "source": [
    "#printing no . of rows\n",
    "dataPost.count()"
   ]
  },
  {
   "cell_type": "code",
   "execution_count": null,
   "metadata": {},
   "outputs": [],
   "source": [
    "#Printing column names\n",
    "dataPost.schema.names"
   ]
  },
  {
   "cell_type": "code",
   "execution_count": null,
   "metadata": {
    "collapsed": true
   },
   "outputs": [],
   "source": [
    "#convert pyspark dataframe to pandas dataframe\n",
    "#pdf1 = new.toPandas()"
   ]
  },
  {
   "cell_type": "code",
   "execution_count": null,
   "metadata": {
    "collapsed": true
   },
   "outputs": [],
   "source": [
    "#dropping colums not required\n",
    "dataPostFilter1 = dataPost.drop(*filter(lambda col: 'browser' in col,d1.columns))\n",
    "dataPostFilter2 = dataPostFilter1.drop(*filter(lambda col: 'social' in col,d1.columns))\n",
    "dataPostFilter3 = dataPostFilter2.drop(*filter(lambda col: 'mobile' in col,d1.columns))\n",
    "dataPostFilter4 = dataPostFilter3.drop(*filter(lambda col: 'video' in col,d1.columns))\n",
    "dataPostFilter5 = dataPostFilter4.drop(*filter(lambda col: 'hier' in col,d1.columns))\n",
    "dataPostFilter5 = dataPostFilter5.drop(*filter(lambda col: 'tnt' in col,d1.columns))\n",
    "dataPostFilter5 = dataPostFilter5.drop(*filter(lambda col: 'zip' in col,d1.columns))\n",
    "dataPostFilter5 = dataPostFilter5.drop(*filter(lambda col: 'search' in col,d1.columns))"
   ]
  },
  {
   "cell_type": "code",
   "execution_count": null,
   "metadata": {
    "collapsed": true
   },
   "outputs": [],
   "source": [
    "#filtering out columns which are not required\n",
    "dataPostFilter5 = dataPostFilter5.drop(*filter(lambda col: 'state' in col,d1.columns))\n",
    "dataPostFilter5 = dataPostFilter5.drop(*filter(lambda col: 'survey' in col,d1.columns))\n",
    "dataPostFilter5 = dataPostFilter5.drop(*filter(lambda col: 'pointofinterest' in col,d1.columns))\n",
    "dataPostFilter5 = dataPostFilter5.drop(*filter(lambda col: 'product_list' in col,d1.columns))\n",
    "dataPostFilter5 = dataPostFilter5.drop(*filter(lambda col: 'persistent' in col,d1.columns))\n",
    "dataPostFilter5 = dataPostFilter5.drop(*filter(lambda col: 'partner' in col,d1.columns))\n",
    "dataPostFilter5 = dataPostFilter5.drop(*filter(lambda col: 'mvvar' in col,d1.columns))\n",
    "dataPostFilter5 = dataPostFilter5.drop(*filter(lambda col: 'page_event' in col,d1.columns))\n",
    "dataPostFilter5 = dataPostFilter5.drop(*filter(lambda col: 'keywords' in col,d1.columns))\n",
    "dataPostFilter5 = dataPostFilter5.drop(*filter(lambda col: 'java' in col,d1.columns))\n",
    "dataPostFilter5 = dataPostFilter5.drop(*filter(lambda col: 'campaign' in col,d1.columns))\n",
    "dataPostFilter5 = dataPostFilter5.drop(*filter(lambda col: 'channel' in col,d1.columns))\n",
    "dataPostFilter5 = dataPostFilter5.drop(*filter(lambda col: 'cookies' in col,d1.columns))\n",
    "dataPostFilter5 = dataPostFilter5.drop(*filter(lambda col: 'currency' in col,d1.columns))\n",
    "dataPostFilter5 = dataPostFilter5.drop(*filter(lambda col: 'java' in col,d1.columns))\n",
    "dataPostFilter5 = dataPostFilter5.drop(*filter(lambda col: 'ef_id' in col,d1.columns))\n",
    "dataPostFilter5 = dataPostFilter5.drop(*filter(lambda col: 'hit_time_gmt' in col,d1.columns))\n",
    "dataPostFilter5 = dataPostFilter5.drop(*filter(lambda col: 'mc_aud' in col,d1.columns))\n",
    "dataPostFilter5 = dataPostFilter5.drop(*filter(lambda col: 'kwcid' in col,d1.columns))"
   ]
  },
  {
   "cell_type": "code",
   "execution_count": null,
   "metadata": {
    "collapsed": true
   },
   "outputs": [],
   "source": [
    "#printing no. of columns\n",
    "len(dataPostFilter5.columns)"
   ]
  },
  {
   "cell_type": "code",
   "execution_count": null,
   "metadata": {
    "collapsed": true
   },
   "outputs": [],
   "source": [
    "#print column names\n",
    "dataPostFilter5.schema.names"
   ]
  },
  {
   "cell_type": "code",
   "execution_count": null,
   "metadata": {
    "collapsed": true
   },
   "outputs": [],
   "source": [
    "#filtering out columns which are not required\n",
    "dataPostFilter6 = dataPostFilter5.drop(*filter(lambda col: 'evar' in col,d1.columns))\n",
    "dataPostFilter7 = dataPostFilter6.drop(*filter(lambda col: 'prop7' in col,d1.columns))\n",
    "dataPostFilter7 = dataPostFilter7.drop(*filter(lambda col: 'prop6' in col,d1.columns))\n",
    "dataPostFilter7 = dataPostFilter7.drop(*filter(lambda col: 'prop4' in col,d1.columns))\n",
    "dataPostFilter7 = dataPostFilter7.drop(*filter(lambda col: 'prop2' in col,d1.columns))"
   ]
  },
  {
   "cell_type": "code",
   "execution_count": null,
   "metadata": {
    "collapsed": true
   },
   "outputs": [],
   "source": [
    "#printing no. of columns\n",
    "len(dataPostFilter7.columns)"
   ]
  },
  {
   "cell_type": "code",
   "execution_count": null,
   "metadata": {
    "collapsed": true
   },
   "outputs": [],
   "source": [
    "#print column names\n",
    "dataPostFilter7.schema.names"
   ]
  },
  {
   "cell_type": "code",
   "execution_count": null,
   "metadata": {
    "collapsed": true
   },
   "outputs": [],
   "source": [
    "#data has all 971 rows 'replaced dataPostFilter7 with d1'\n",
    "selectedRows = data.select(['post_event_list','post_page_url','post_pagename',\n",
    " 'post_pagename_no_url','post_prop5','post_prop14','post_purchaseid',\n",
    " 'post_referrer','post_visid_high','post_visid_low'])"
   ]
  },
  {
   "cell_type": "code",
   "execution_count": null,
   "metadata": {},
   "outputs": [],
   "source": [
    "selectedRows.schema.names"
   ]
  },
  {
   "cell_type": "code",
   "execution_count": null,
   "metadata": {},
   "outputs": [],
   "source": [
    "#printing no. of columns\n",
    "len(selectedRows.columns)"
   ]
  },
  {
   "cell_type": "code",
   "execution_count": null,
   "metadata": {
    "collapsed": true
   },
   "outputs": [],
   "source": [
    "#convert to pandas dataframe\n",
    "pandasDF = selectedRows.toPandas()"
   ]
  },
  {
   "cell_type": "code",
   "execution_count": null,
   "metadata": {},
   "outputs": [],
   "source": [
    "pandasDF"
   ]
  },
  {
   "cell_type": "code",
   "execution_count": null,
   "metadata": {},
   "outputs": [],
   "source": [
    "pandasDF.shape"
   ]
  },
  {
   "cell_type": "code",
   "execution_count": null,
   "metadata": {
    "collapsed": true
   },
   "outputs": [],
   "source": [
    "#combining post_visid_high with post_visid_low and storing the value in new column newuid.\n",
    "#which is used to identify unique visitor.\n",
    "pandasDF['newuid'] = pandasDF.post_visid_high + pandasDF.post_visid_low"
   ]
  },
  {
   "cell_type": "code",
   "execution_count": null,
   "metadata": {},
   "outputs": [],
   "source": [
    "list(pandasDF)"
   ]
  },
  {
   "cell_type": "code",
   "execution_count": null,
   "metadata": {
    "collapsed": true
   },
   "outputs": [],
   "source": [
    "pdfWithoutNullEventList = pandasDF.dropna(subset = ['post_event_list'])"
   ]
  },
  {
   "cell_type": "code",
   "execution_count": null,
   "metadata": {},
   "outputs": [],
   "source": [
    "#print shape of dataframe\n",
    "pdfWithoutNullEventList.shape"
   ]
  },
  {
   "cell_type": "code",
   "execution_count": null,
   "metadata": {},
   "outputs": [],
   "source": [
    "#check if event list contains 1\n",
    "pdfWithoutNullEventList1 = pdfWithoutNullEventList[pdfWithoutNullEventList['post_event_list'].str.contains(',1,')]"
   ]
  },
  {
   "cell_type": "code",
   "execution_count": null,
   "metadata": {},
   "outputs": [],
   "source": [
    "#print rows\n",
    "pdfWithoutNullEventList1"
   ]
  },
  {
   "cell_type": "code",
   "execution_count": null,
   "metadata": {
    "collapsed": true
   },
   "outputs": [],
   "source": [
    "#Store boolean values if event list contains 1 or not\n",
    "nullEventListBool = pdfWithoutNullEventList['post_event_list'].str.contains(',1,')"
   ]
  },
  {
   "cell_type": "code",
   "execution_count": null,
   "metadata": {},
   "outputs": [],
   "source": [
    "nullEventListBool"
   ]
  },
  {
   "cell_type": "code",
   "execution_count": null,
   "metadata": {
    "collapsed": true
   },
   "outputs": [],
   "source": [
    "#Resetting the index\n",
    "nullEventListBool = nullEventListBool.reset_index()"
   ]
  },
  {
   "cell_type": "code",
   "execution_count": null,
   "metadata": {},
   "outputs": [],
   "source": [
    "#dropping index column\n",
    "nullEventListBool.drop('index', axis=1, inplace=True)"
   ]
  },
  {
   "cell_type": "code",
   "execution_count": null,
   "metadata": {
    "collapsed": true
   },
   "outputs": [],
   "source": [
    "#Resetting the index\n",
    "pdfWithoutNullEventList = pdfWithoutNullEventList.reset_index()"
   ]
  },
  {
   "cell_type": "code",
   "execution_count": null,
   "metadata": {},
   "outputs": [],
   "source": [
    "#Print dataframe\n",
    "pdfWithoutNullEventList"
   ]
  },
  {
   "cell_type": "code",
   "execution_count": null,
   "metadata": {},
   "outputs": [],
   "source": [
    "#dropping index column\n",
    "pdfWithoutNullEventList.drop('index', axis=1, inplace=True)"
   ]
  },
  {
   "cell_type": "code",
   "execution_count": null,
   "metadata": {},
   "outputs": [],
   "source": [
    "#adding new column event1 which determines if even list has 1 or not\n",
    "pdfWithoutNullEventList['event1'] = nullEventListBool"
   ]
  },
  {
   "cell_type": "code",
   "execution_count": null,
   "metadata": {},
   "outputs": [],
   "source": [
    "#prints column names\n",
    "list(pdfWithoutNullEventList)"
   ]
  },
  {
   "cell_type": "code",
   "execution_count": null,
   "metadata": {},
   "outputs": [],
   "source": [
    "#prints dimensions of dataframe\n",
    "pdfWithoutNullEventList.shape"
   ]
  },
  {
   "cell_type": "code",
   "execution_count": null,
   "metadata": {},
   "outputs": [],
   "source": [
    "pdfWithoutNullEventList"
   ]
  },
  {
   "cell_type": "code",
   "execution_count": null,
   "metadata": {},
   "outputs": [],
   "source": [
    "#pdfWithoutNullEventList.loc[pdfall['event1'] == 1]\n"
   ]
  },
  {
   "cell_type": "code",
   "execution_count": null,
   "metadata": {},
   "outputs": [],
   "source": [
    "#Grouping By newuid\n",
    "groupDF = pdfWithoutNullEventList.groupby(\"newuid\")"
   ]
  },
  {
   "cell_type": "code",
   "execution_count": null,
   "metadata": {},
   "outputs": [],
   "source": [
    "#print the counts\n",
    "groupDF.count()"
   ]
  },
  {
   "cell_type": "code",
   "execution_count": null,
   "metadata": {},
   "outputs": [],
   "source": [
    "#get all rows data of particular user\n",
    "groupDF.get_group('9999366481835270403662727402219829167')"
   ]
  },
  {
   "cell_type": "code",
   "execution_count": null,
   "metadata": {
    "scrolled": true
   },
   "outputs": [],
   "source": [
    "#get a particular column\n",
    "groupDF.get_group('9999366481835270403662727402219829167')['event1']"
   ]
  },
  {
   "cell_type": "code",
   "execution_count": null,
   "metadata": {},
   "outputs": [],
   "source": [
    "#get count of a particular column values\n",
    "groupDF.get_group('9999366481835270403662727402219829167')['event1'].count()"
   ]
  },
  {
   "cell_type": "code",
   "execution_count": null,
   "metadata": {
    "collapsed": true
   },
   "outputs": [],
   "source": []
  }
 ],
 "metadata": {
  "kernelspec": {
   "display_name": "Python 3",
   "language": "python",
   "name": "python3"
  },
  "language_info": {
   "codemirror_mode": {
    "name": "ipython",
    "version": 3
   },
   "file_extension": ".py",
   "mimetype": "text/x-python",
   "name": "python",
   "nbconvert_exporter": "python",
   "pygments_lexer": "ipython3",
   "version": "3.6.3"
  }
 },
 "nbformat": 4,
 "nbformat_minor": 2
}
