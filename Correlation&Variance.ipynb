{
 "cells": [
  {
   "cell_type": "code",
   "execution_count": null,
   "metadata": {},
   "outputs": [],
   "source": [
    "from pyspark.sql import SparkSession\n",
    "spark = SparkSession.builder.appName('data_clean_and_preprocess').getOrCreate()"
   ]
  },
  {
   "cell_type": "code",
   "execution_count": null,
   "metadata": {},
   "outputs": [],
   "source": [
    "df = spark.read.option(\"sep\",\"\\t\").csv(\"column_headers.tsv\",header='true', inferSchema='true')\n",
    "df1 = spark.read.option(\"sep\",\"\\t\").csv(\"hit_data.tsv\",header='false', inferSchema='true')"
   ]
  },
  {
   "cell_type": "code",
   "execution_count": null,
   "metadata": {},
   "outputs": [],
   "source": [
    "import pyspark\n",
    "from pyspark import SparkContext\n",
    "from pyspark.sql import functions as sf\n",
    "sc = SparkContext.getOrCreate()\n",
    "sqlc = pyspark.SQLContext(sc)"
   ]
  },
  {
   "cell_type": "code",
   "execution_count": null,
   "metadata": {},
   "outputs": [],
   "source": [
    "result = df.union(df1)\n",
    "#result.head(1)\n",
    "#result.count()"
   ]
  },
  {
   "cell_type": "code",
   "execution_count": null,
   "metadata": {},
   "outputs": [],
   "source": [
    "NoValuedExcludeHit=result.filter(result.exclude_hit == 0)\n",
    "#NoValuedExcludeHit.count()"
   ]
  },
  {
   "cell_type": "code",
   "execution_count": null,
   "metadata": {},
   "outputs": [],
   "source": [
    "ValidHitSourceWithout5=NoValuedExcludeHit.filter(NoValuedExcludeHit.hit_source != 5 )\n",
    "ValidHitSourceWithout7=ValidHitSourceWithout5.filter(ValidHitSourceWithout5.hit_source != 7 )\n",
    "ValidHitSourceWithout9=ValidHitSourceWithout7.filter(ValidHitSourceWithout7.hit_source != 9 )\n",
    "ValidHitSourceWithout8=ValidHitSourceWithout9.filter(ValidHitSourceWithout9.hit_source != 8 )\n",
    "#ValidHitSourceWithout8.count()"
   ]
  },
  {
   "cell_type": "code",
   "execution_count": null,
   "metadata": {},
   "outputs": [],
   "source": [
    "MergedColumns = ValidHitSourceWithout8.withColumn('joined_column', sf.concat(sf.col('post_visid_high'),sf.lit(''), sf.col('post_visid_low')))"
   ]
  },
  {
   "cell_type": "code",
   "execution_count": null,
   "metadata": {},
   "outputs": [],
   "source": [
    "#apart from post_ columns considering column obtained after joining the two post_ columns as mentioned above and mcvisid\n",
    "MergedColumns=MergedColumns.withColumnRenamed('joined_column', 'post_uniqueId')"
   ]
  },
  {
   "cell_type": "code",
   "execution_count": null,
   "metadata": {},
   "outputs": [],
   "source": [
    "MergedColumns=MergedColumns.withColumnRenamed('mcvisid', 'post_mcvisid')"
   ]
  },
  {
   "cell_type": "code",
   "execution_count": null,
   "metadata": {},
   "outputs": [],
   "source": [
    "#dropping the extraneous columns\n",
    "DropPostVHL=MergedColumns.drop('post_visid_high','post_visid_low')\n",
    "#len(DropPostVHL.columns)"
   ]
  },
  {
   "cell_type": "code",
   "execution_count": null,
   "metadata": {},
   "outputs": [],
   "source": [
    "#considering only post_ columns\n",
    "newDataF= DropPostVHL.select(*filter(lambda col:'post_' in col, DropPostVHL.columns))\n",
    "#len(newDataF.columns)\n",
    "#newDataF.count()"
   ]
  },
  {
   "cell_type": "code",
   "execution_count": null,
   "metadata": {},
   "outputs": [],
   "source": [
    "MergedColumns.select('post_referrer')"
   ]
  },
  {
   "cell_type": "code",
   "execution_count": null,
   "metadata": {},
   "outputs": [],
   "source": [
    "MergedColumns=MergedColumns.withColumnRenamed('post_referrer','post_evar_r')"
   ]
  },
  {
   "cell_type": "code",
   "execution_count": null,
   "metadata": {},
   "outputs": [],
   "source": [
    "MergedColumns.select('post_evar_r')"
   ]
  },
  {
   "cell_type": "code",
   "execution_count": null,
   "metadata": {},
   "outputs": [],
   "source": [
    "#filter eVar to find null values\n",
    "eVar=newDataF.select(*filter(lambda col:'post_evar' in col, newDataF.columns))"
   ]
  },
  {
   "cell_type": "code",
   "execution_count": null,
   "metadata": {},
   "outputs": [],
   "source": [
    "NoNullevar=newDataF.select( \"post_evar1\", \"post_evar2\", \"post_evar8\", \"post_evar11\", \"post_evar26\",\"post_evar27\",\"post_evar28\",\"post_evar33\",\"post_evar34\",\"post_evar35\",\"post_evar38\", \"post_evar39\", \"post_evar40\", \"post_evar47\",\"post_evar48\",\"post_evar49\",\"post_evar51\",\"post_evar53\",\"post_evar63\",\"post_evar64\",\"post_evar65\",\"post_evar68\",\"post_evar70\",\"post_evar71\", \"post_evar77\",\"post_evar78\",\"post_evar80\",\"post_evar98\",\"post_evar99\",\"post_evar101\",\"post_evar102\",'post_referrer')"
   ]
  },
  {
   "cell_type": "code",
   "execution_count": null,
   "metadata": {},
   "outputs": [],
   "source": [
    "NoNullevar=NoNullevar.select( \"post_evar27\", \"post_evar33\", \"post_evar34\", \"post_evar35\", \"post_evar39\",\"post_evar47\",\"post_evar71\",\"post_evar78\",'post_referrer')"
   ]
  },
  {
   "cell_type": "code",
   "execution_count": null,
   "metadata": {},
   "outputs": [],
   "source": [
    "from pyspark.ml.feature import StringIndexer"
   ]
  },
  {
   "cell_type": "code",
   "execution_count": null,
   "metadata": {},
   "outputs": [],
   "source": [
    "MergedColumns = NoNullevar.withColumn('joined_column', sf.concat(sf.col('post_evar47'),sf.lit(':'), sf.col('post_evar34')))"
   ]
  },
  {
   "cell_type": "code",
   "execution_count": null,
   "metadata": {},
   "outputs": [],
   "source": [
    "#Converting string data to float\n",
    "indexerpost_evar34and47 = StringIndexer(inputCol='joined_column', outputCol='post_evar34post47_cat')\n",
    "indexed = indexerpost_evar34and47.fit(MergedColumns).transform(MergedColumns)\n",
    "#indexed.head(5)"
   ]
  },
  {
   "cell_type": "code",
   "execution_count": null,
   "metadata": {},
   "outputs": [],
   "source": [
    "indexedwithoutpost_evar34and47=indexed.drop('post_evar34','post_evar47')"
   ]
  },
  {
   "cell_type": "code",
   "execution_count": null,
   "metadata": {},
   "outputs": [],
   "source": [
    "#Converting string data to float\n",
    "indexerpost_evar35 = StringIndexer(inputCol='post_evar35', outputCol='post_evar35_cat')\n",
    "indexed = indexerpost_evar35.fit(indexedwithoutpost_evar34and47).transform(indexedwithoutpost_evar34and47)\n",
    "#indexed.head(5)"
   ]
  },
  {
   "cell_type": "code",
   "execution_count": null,
   "metadata": {},
   "outputs": [],
   "source": [
    "indexedwithoutpost_evar35=indexed.drop('post_evar35')"
   ]
  },
  {
   "cell_type": "code",
   "execution_count": null,
   "metadata": {},
   "outputs": [],
   "source": [
    "#Converting string data to float\n",
    "indexerpost_evar27 = StringIndexer(inputCol='post_evar27', outputCol='post_evar27_cat')\n",
    "indexed = indexerpost_evar27.fit(indexedwithoutpost_evar35).transform(indexedwithoutpost_evar35)"
   ]
  },
  {
   "cell_type": "code",
   "execution_count": null,
   "metadata": {},
   "outputs": [],
   "source": [
    "indexedwithoutpost_evar27=indexed.drop('post_evar27')"
   ]
  },
  {
   "cell_type": "code",
   "execution_count": null,
   "metadata": {},
   "outputs": [],
   "source": [
    "#selecting a subset\n",
    "sub=indexedwithoutpost_evar27.select('post_evar34post47_cat','post_evar35_cat','post_referrer','post_evar27_cat')\n",
    "#indexed.select(\"post_referrer\").show(20,False)"
   ]
  },
  {
   "cell_type": "code",
   "execution_count": null,
   "metadata": {},
   "outputs": [],
   "source": [
    "#selecting subset\n",
    "SelectedRows=sub.filter(sub.post_referrer.endswith('/cart')).select('post_evar34post47_cat','post_evar35_cat','post_evar27_cat','post_referrer')\n",
    "#SelectedRows.count()"
   ]
  },
  {
   "cell_type": "code",
   "execution_count": null,
   "metadata": {},
   "outputs": [],
   "source": [
    "#finding correlation \n",
    "from pyspark.sql.functions import corr\n",
    "SelectedRows.select(corr('post_evar34post47_cat', 'post_evar35_cat')).show()"
   ]
  },
  {
   "cell_type": "code",
   "execution_count": null,
   "metadata": {},
   "outputs": [],
   "source": [
    "#finding variance for post_evar27\n",
    "SelectedRows.stat.cov('post_evar27_cat','post_evar27_cat')"
   ]
  },
  {
   "cell_type": "code",
   "execution_count": null,
   "metadata": {},
   "outputs": [],
   "source": []
  }
 ],
 "metadata": {
  "kernelspec": {
   "display_name": "Python 3",
   "language": "python",
   "name": "python3"
  },
  "language_info": {
   "codemirror_mode": {
    "name": "ipython",
    "version": 3
   },
   "file_extension": ".py",
   "mimetype": "text/x-python",
   "name": "python",
   "nbconvert_exporter": "python",
   "pygments_lexer": "ipython3",
   "version": "3.5.2"
  }
 },
 "nbformat": 4,
 "nbformat_minor": 2
}
