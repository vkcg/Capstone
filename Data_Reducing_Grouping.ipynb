{
 "cells": [
  {
   "cell_type": "code",
   "execution_count": null,
   "metadata": {
    "collapsed": true
   },
   "outputs": [],
   "source": [
    "#creating spark instance\n",
    "from pyspark.sql import SparkSession\n",
    "spark = SparkSession .builder.appName('removeduplicatescart').getOrCreate()"
   ]
  },
  {
   "cell_type": "code",
   "execution_count": null,
   "metadata": {
    "collapsed": true
   },
   "outputs": [],
   "source": [
    "#import libraries\n",
    "import pandas as pd\n",
    "import numpy as np\n",
    "from pyspark.sql import functions as sf"
   ]
  },
  {
   "cell_type": "code",
   "execution_count": null,
   "metadata": {
    "collapsed": true
   },
   "outputs": [],
   "source": [
    "#Read column names\n",
    "headers1 = spark.read.csv(\"sample1.csv\",inferSchema =True, header=True)\n",
    "#headers1.printSchema()"
   ]
  },
  {
   "cell_type": "code",
   "execution_count": null,
   "metadata": {
    "collapsed": true
   },
   "outputs": [],
   "source": [
    "#Read data from tsv file\n",
    "rows = spark.read.option(\"sep\", \"\\t\").csv(\"..\\hit_data.tsv\",inferSchema =True, header=False)\n",
    "#rows.printSchema()"
   ]
  },
  {
   "cell_type": "code",
   "execution_count": null,
   "metadata": {},
   "outputs": [],
   "source": [
    "#adding header to data\n",
    "rowsWithHeader1 = headers1.union(rows)\n",
    "#rowsWithHeader1.printSchema()\n",
    "rowsWithHeader1.count()"
   ]
  },
  {
   "cell_type": "code",
   "execution_count": null,
   "metadata": {},
   "outputs": [],
   "source": [
    "rowsWithHeader1 = rowsWithHeader1.filter(rowsWithHeader1.exclude_hit<=0)\n",
    "rowsCount = rowsWithHeader1.count()\n",
    "rowsCount"
   ]
  },
  {
   "cell_type": "code",
   "execution_count": null,
   "metadata": {
    "collapsed": true
   },
   "outputs": [],
   "source": [
    "#filtering rows based on hit_source column value. Exclude all rows with hit_source = 5,7,8,9.\n",
    "rowsWithHeader1 = rowsWithHeader1.filter(rowsWithHeader1.hit_source!=5)\n",
    "rowsWithHeader1 = rowsWithHeader1.filter(rowsWithHeader1.hit_source!=7)\n",
    "rowsWithHeader1 = rowsWithHeader1.filter(rowsWithHeader1.hit_source!=8)\n",
    "rowsWithHeader1 = rowsWithHeader1.filter(rowsWithHeader1.hit_source!=9)"
   ]
  },
  {
   "cell_type": "code",
   "execution_count": null,
   "metadata": {},
   "outputs": [],
   "source": [
    "#Selecting only post columns\n",
    "postData = rowsWithHeader1.select(*filter(lambda col: 'post_' in col,rowsWithHeader1.columns))\n",
    "#Printing no. of columns\n",
    "len(postData.columns)"
   ]
  },
  {
   "cell_type": "code",
   "execution_count": null,
   "metadata": {
    "collapsed": true
   },
   "outputs": [],
   "source": [
    "#Add a new column which conains values to idenify unique visitors\n",
    "postDataWithUniqueId = postData.withColumn('joined_column', sf.concat(sf.col('post_visid_high'),sf.lit(''), sf.col('post_visid_low')))"
   ]
  },
  {
   "cell_type": "code",
   "execution_count": null,
   "metadata": {
    "collapsed": true
   },
   "outputs": [],
   "source": [
    "#apart from post_ columns considering column obtained after joining the two post_ columns as mentioned above and mcvisid\n",
    "postDataWithUniqueId = postDataWithUniqueId.withColumnRenamed('joined_column', 'post_uniqueId')"
   ]
  },
  {
   "cell_type": "code",
   "execution_count": null,
   "metadata": {},
   "outputs": [],
   "source": [
    "#Select the column post_uniqueID\n",
    "UniqueId=postDataWithUniqueId.select('post_uniqueId')\n",
    "#Print count\n",
    "UniqueId.count()"
   ]
  },
  {
   "cell_type": "code",
   "execution_count": null,
   "metadata": {},
   "outputs": [],
   "source": [
    "#Removing post_mobile columns from dataframe\n",
    "postDataWithoutMobile = postDataWithUniqueId.drop(*filter(lambda col: 'mobile' in col,postData.columns))\n",
    "#Printing no. of columns\n",
    "len(postDataWithoutMobile.columns)"
   ]
  },
  {
   "cell_type": "code",
   "execution_count": null,
   "metadata": {
    "collapsed": true
   },
   "outputs": [],
   "source": [
    "#Get column names\n",
    "#columnNames = postDataWithoutMobile.schema.names\n",
    "#columnNames\n",
    "#type(columnNames)"
   ]
  },
  {
   "cell_type": "code",
   "execution_count": null,
   "metadata": {
    "collapsed": true
   },
   "outputs": [],
   "source": [
    "#postDataWithoutMobile.select('post_referrer').show()"
   ]
  },
  {
   "cell_type": "code",
   "execution_count": null,
   "metadata": {
    "collapsed": true
   },
   "outputs": [],
   "source": [
    "#select users with cart in referrer\n",
    "#cartRows = postDataWithoutMobile.filter(postDataWithoutMobile.post_referrer.rlike(\"^(.)*(cart|CART|Cart)(.)*$\"))\n",
    "#cartRows.count()"
   ]
  },
  {
   "cell_type": "code",
   "execution_count": null,
   "metadata": {
    "collapsed": true
   },
   "outputs": [],
   "source": [
    "#select users with cart,ship in referrer\n",
    "#cartShipRows = postDataWithoutMobile.filter(postDataWithoutMobile.post_referrer.rlike(\"^(.)*(cart|CART|Cart|shipping|Ship|ship)(.)*$\"))\n",
    "#cartShipRows.count()"
   ]
  },
  {
   "cell_type": "code",
   "execution_count": null,
   "metadata": {},
   "outputs": [],
   "source": [
    "#select users with cart,ship,chkout4_confirm in referrer\n",
    "cartShipConfirmRows = postDataWithoutMobile.filter(postDataWithoutMobile.post_referrer.rlike(\"^(.)*(cart|CART|Cart|shipping|Ship|ship|chkout4_confirm)(.)*$\"))\n",
    "cartShipConfirmRows.count()"
   ]
  },
  {
   "cell_type": "code",
   "execution_count": null,
   "metadata": {
    "collapsed": true
   },
   "outputs": [],
   "source": [
    "#storing all existing distinct users\n",
    "#uniqueIdsWithCart = [list(x.asDict().values())[0] for x in cartRows.select(\"post_uniqueid\").distinct().collect()]\n",
    "#print(\"{}\".format(len(uniqueIdsWithCart)))"
   ]
  },
  {
   "cell_type": "code",
   "execution_count": null,
   "metadata": {
    "collapsed": true
   },
   "outputs": [],
   "source": [
    "#storing all existing distinct users\n",
    "#uniqueIdsWithCartShip = [list(x.asDict().values())[0] for x in cartShipRows.select(\"post_uniqueid\").distinct().collect()]\n",
    "#print(\"{}\".format(len(uniqueIdsWithCartShip)))"
   ]
  },
  {
   "cell_type": "code",
   "execution_count": null,
   "metadata": {},
   "outputs": [],
   "source": [
    "#storing all existing distinct users\n",
    "uniqueIdsWithCartShipConfirm = [list(x.asDict().values())[0] for x in cartShipConfirmRows.select(\"post_uniqueid\").distinct().collect()]\n",
    "print(\"{}\".format(len(uniqueIdsWithCartShipConfirm)))"
   ]
  },
  {
   "cell_type": "code",
   "execution_count": null,
   "metadata": {
    "collapsed": true
   },
   "outputs": [],
   "source": [
    "#Convert to pandas dataframe\n",
    "#cartPDF = cartRows.toPandas()\n",
    "#cartPDF.shape"
   ]
  },
  {
   "cell_type": "code",
   "execution_count": null,
   "metadata": {
    "collapsed": true
   },
   "outputs": [],
   "source": [
    "#Removes any columns with null values\n",
    "#cartRowsWithoutNullColumns = cartPDF.dropna(axis=1,how='all')\n",
    "#cartRowsWithoutNullColumns.shape"
   ]
  },
  {
   "cell_type": "code",
   "execution_count": null,
   "metadata": {
    "collapsed": true
   },
   "outputs": [],
   "source": [
    "#List of column names after removing null columns\n",
    "#cartRowsWithoutNullColumnsNames = list(cartRowsWithoutNullColumns)\n",
    "#cartRowsWithoutNullColumnsNames"
   ]
  },
  {
   "cell_type": "code",
   "execution_count": null,
   "metadata": {
    "collapsed": true
   },
   "outputs": [],
   "source": [
    "#uniqueCartUsers = cartPDF.post_uniqueId.unique()\n",
    "#len(uniqueCartUsers)"
   ]
  },
  {
   "cell_type": "code",
   "execution_count": null,
   "metadata": {
    "collapsed": true
   },
   "outputs": [],
   "source": [
    "#Drops duplicate columns and also drops null columns\n",
    "#cartRowsWithoutDuplicateColumns = cartRowsWithoutNullColumns.T.drop_duplicates().T\n",
    "#cartRowsWithoutDuplicateColumns.shape"
   ]
  },
  {
   "cell_type": "code",
   "execution_count": null,
   "metadata": {
    "collapsed": true
   },
   "outputs": [],
   "source": [
    "#List of column names after removing duplicate columns\n",
    "#cartRowsWithoutDuplicateColumnsNames = list(cartRowsWithoutDuplicateColumns)\n",
    "#cartRowsWithoutDuplicateColumnsNames"
   ]
  },
  {
   "cell_type": "code",
   "execution_count": null,
   "metadata": {
    "collapsed": true
   },
   "outputs": [],
   "source": [
    "#List of removed columns\n",
    "#removedDuplicateColumns = list(set(cartRowsWithoutNullColumnsNames) - set(cartRowsWithoutDuplicateColumnsNames))\n",
    "#removedDuplicateColumns"
   ]
  },
  {
   "cell_type": "code",
   "execution_count": null,
   "metadata": {
    "collapsed": true
   },
   "outputs": [],
   "source": [
    "#Save dataframe to a csv file\n",
    "#cartRowsWithoutDuplicateColumns.to_csv(\"reduced.csv\", index=False)"
   ]
  },
  {
   "cell_type": "code",
   "execution_count": null,
   "metadata": {
    "collapsed": true
   },
   "outputs": [],
   "source": [
    "#Get all rows of users having cart in post_referrer\n",
    "#allRowsOfCartUsers = postDataWithoutMobile.where(postDataWithoutMobile.post_uniqueId.isin(uniqueIdsWithCart))\n",
    "#Print count\n",
    "#allRowsOfCartUsers.count()"
   ]
  },
  {
   "cell_type": "code",
   "execution_count": null,
   "metadata": {
    "collapsed": true
   },
   "outputs": [],
   "source": [
    "#Get all rows of users having cart,ship in post_referrer\n",
    "#allRowsOfCartShipUsers = postDataWithoutMobile.where(postDataWithoutMobile.post_uniqueId.isin(uniqueIdsWithCartShip))\n",
    "#Print count\n",
    "#allRowsOfCartShipUsers.count()"
   ]
  },
  {
   "cell_type": "code",
   "execution_count": null,
   "metadata": {},
   "outputs": [],
   "source": [
    "#Get all rows of users having cart, ship, chkout4_confirm in post_referrer\n",
    "allRowsOfCartShipConfirmUsers = postDataWithoutMobile.where(postDataWithoutMobile.post_uniqueId.isin(uniqueIdsWithCartShipConfirm))\n",
    "#Print count\n",
    "allRowsOfCartShipConfirmUsersCount = allRowsOfCartShipConfirmUsers.count()\n",
    "allRowsOfCartShipConfirmUsersCount"
   ]
  },
  {
   "cell_type": "code",
   "execution_count": null,
   "metadata": {
    "collapsed": true
   },
   "outputs": [],
   "source": [
    "#Regex to find event list having 1 at beginning, in middle and at end.\n",
    "#event1CartRows = allRowsOfCartUsers.filter(allRowsOfCartUsers.post_event_list.rlike(\"^(1,[0-9 , . =]*|[0-9 , . =]*,1,[0-9 , . =]*|[0-9 , . =]*,1)$\"))\n",
    "#print count\n",
    "#event1CartRows.count()"
   ]
  },
  {
   "cell_type": "code",
   "execution_count": null,
   "metadata": {
    "collapsed": true
   },
   "outputs": [],
   "source": [
    "#Get unique Ids\n",
    "#event1CartUniqueIds = [list(x.asDict().values())[0] for x in event1CartRows.select(\"post_uniqueid\").distinct().collect()]\n",
    "#print count\n",
    "#print(\"{}\".format(len(event1CartUniqueIds)))"
   ]
  },
  {
   "cell_type": "code",
   "execution_count": null,
   "metadata": {
    "collapsed": true
   },
   "outputs": [],
   "source": [
    "#Regex to find event list having 1 at beginning, in middle and at end.\n",
    "#event1CartShipRows = allRowsOfCartShipUsers.filter(allRowsOfCartShipUsers.post_event_list.rlike(\"^(1,[0-9 , . =]*|[0-9 , . =]*,1,[0-9 , . =]*|[0-9 , . =]*,1)$\"))\n",
    "#Print count\n",
    "#event1CartShipRows.count()"
   ]
  },
  {
   "cell_type": "code",
   "execution_count": null,
   "metadata": {
    "collapsed": true
   },
   "outputs": [],
   "source": [
    "#Get unique Ids\n",
    "#event1CartShipUniqueIds = [list(x.asDict().values())[0] for x in event1CartShipRows.select(\"post_uniqueid\").distinct().collect()]\n",
    "#print count\n",
    "#print(\"{}\".format(len(event1CartShipUniqueIds)))"
   ]
  },
  {
   "cell_type": "code",
   "execution_count": null,
   "metadata": {},
   "outputs": [],
   "source": [
    "#Regex to find event list having 1 at beginning, in middle and at end.\n",
    "event1CartShipConfirmRows = allRowsOfCartShipConfirmUsers.filter(allRowsOfCartShipConfirmUsers.post_event_list.rlike(\"^(1,[0-9 , . =]*|[0-9 , . =]*,1,[0-9 , . =]*|[0-9 , . =]*,1)$\"))\n",
    "#print count\n",
    "event1CartShipConfirmRows.count()"
   ]
  },
  {
   "cell_type": "code",
   "execution_count": null,
   "metadata": {},
   "outputs": [],
   "source": [
    "#Get unique Ids\n",
    "event1CartShipConfirmUniqueIds = [list(x.asDict().values())[0] for x in event1CartShipConfirmRows.select(\"post_uniqueid\").distinct().collect()]\n",
    "#print count\n",
    "print(\"{}\".format(len(event1CartShipConfirmUniqueIds)))"
   ]
  },
  {
   "cell_type": "code",
   "execution_count": null,
   "metadata": {},
   "outputs": [],
   "source": [
    "#Get abandoned userIds\n",
    "abandonedUsersIds = list(set(uniqueIdsWithCartShipConfirm) - set(event1CartShipConfirmUniqueIds))\n",
    "#print count\n",
    "print(\"{}\".format(len(abandonedUsersIds)))"
   ]
  },
  {
   "cell_type": "code",
   "execution_count": null,
   "metadata": {
    "collapsed": true
   },
   "outputs": [],
   "source": [
    "#Regex to find event list having 1 at beginning, in middle and at end.\n",
    "#event1PostRows = postDataWithoutMobile.filter(postDataWithoutMobile.post_event_list.rlike(\"^(1,[0-9 , . =]*|[0-9 , . =]*,1,[0-9 , . =]*|[0-9 , . =]*,1)$\"))\n",
    "#print count\n",
    "#event1PostRows.count()"
   ]
  },
  {
   "cell_type": "code",
   "execution_count": null,
   "metadata": {
    "collapsed": true
   },
   "outputs": [],
   "source": [
    "#Get unique Ids\n",
    "#event1PostUniqueIds = [list(x.asDict().values())[0] for x in event1PostRows.select(\"post_uniqueid\").distinct().collect()]\n",
    "#print count\n",
    "#print(\"{}\".format(len(event1PostUniqueIds)))"
   ]
  },
  {
   "cell_type": "code",
   "execution_count": null,
   "metadata": {
    "collapsed": true
   },
   "outputs": [],
   "source": [
    "#event1Test = event1PostRows.select('post_uniqueid','post_referrer')\n",
    "#event1Test.show()\n",
    "#event1TestPDF = event1Test.toPandas()\n",
    "#event1TestPDF.post_referrer"
   ]
  },
  {
   "cell_type": "code",
   "execution_count": null,
   "metadata": {
    "collapsed": true
   },
   "outputs": [],
   "source": [
    "#Save dataframe to a csv file\n",
    "#event1TestPDF.to_csv(\"event1testpdf.csv\", index=False)"
   ]
  },
  {
   "cell_type": "code",
   "execution_count": null,
   "metadata": {},
   "outputs": [],
   "source": [
    "#Reducing data by removing null columns\n",
    "allRowsOfCartShipConfirmUsersPDF = allRowsOfCartShipConfirmUsers.toPandas()\n",
    "allRowsOfCartShipConfirmUsersPDF.shape"
   ]
  },
  {
   "cell_type": "code",
   "execution_count": null,
   "metadata": {},
   "outputs": [],
   "source": [
    "#Removes any columns with null values\n",
    "rowsWithoutNullColumns = allRowsOfCartShipConfirmUsersPDF.dropna(axis=1,how='all')\n",
    "rowsWithoutNullColumns.shape"
   ]
  },
  {
   "cell_type": "code",
   "execution_count": null,
   "metadata": {},
   "outputs": [],
   "source": [
    "#Removing columns with 50% nulls \n",
    "rowsWithoutNullColumnsThresh50 = rowsWithoutNullColumns.dropna(axis=1,thresh=allRowsOfCartShipConfirmUsersCount/2)\n",
    "rowsWithoutNullColumnsThresh50.shape"
   ]
  },
  {
   "cell_type": "code",
   "execution_count": null,
   "metadata": {
    "collapsed": true
   },
   "outputs": [],
   "source": [
    "#Save dataframe to a csv file\n",
    "rowsWithoutNullColumnsThresh50.to_csv(\"reducedusersrows.csv\", index=False)"
   ]
  },
  {
   "cell_type": "code",
   "execution_count": null,
   "metadata": {
    "collapsed": true
   },
   "outputs": [],
   "source": [
    "#Read column names\n",
    "allUsers = spark.read.csv(\"reducedusersrows.csv\",inferSchema =True, header=True)\n",
    "#allUsers.printSchema()"
   ]
  },
  {
   "cell_type": "code",
   "execution_count": null,
   "metadata": {},
   "outputs": [],
   "source": [
    "#get all rows of abandoned users\n",
    "allRowsOfAbandonedUsers = allUsers.where(allUsers.post_uniqueId.isin(abandonedUsersIds))\n",
    "#print count\n",
    "allRowsOfAbandonedUsers.count()"
   ]
  },
  {
   "cell_type": "code",
   "execution_count": null,
   "metadata": {
    "collapsed": true
   },
   "outputs": [],
   "source": [
    "#allRowsOfAbandonedUsersPDF = allRowsOfAbandonedUsers.toPandas()\n",
    "#Removes any columns with null values\n",
    "#allRowsOfAbandonedUsersPDF = allRowsOfCartShipConfirmUsersPDF.dropna(axis=1,how='all')\n",
    "#allRowsOfAbandonedUsersPDF.shape"
   ]
  },
  {
   "cell_type": "code",
   "execution_count": null,
   "metadata": {},
   "outputs": [],
   "source": [
    "#Groupby abandoned users using post_uniqueId\n",
    "abandonedUsersGroupBy = allRowsOfAbandonedUsers.groupBy(\"post_uniqueId\").count()"
   ]
  },
  {
   "cell_type": "code",
   "execution_count": null,
   "metadata": {},
   "outputs": [],
   "source": [
    "abandonedUsersGroupBy.show()"
   ]
  },
  {
   "cell_type": "code",
   "execution_count": null,
   "metadata": {},
   "outputs": [],
   "source": [
    "#get all rows of purchased users\n",
    "allRowsOfPurchasedUsers = allUsers.where(allUsers.post_uniqueId.isin(event1CartShipConfirmUniqueIds))\n",
    "#print count\n",
    "allRowsOfPurchasedUsers.count()"
   ]
  },
  {
   "cell_type": "code",
   "execution_count": null,
   "metadata": {
    "collapsed": true
   },
   "outputs": [],
   "source": [
    "#Groupby purchased users using post_uniqueId\n",
    "purchasedUsersGroupBy = allRowsOfPurchasedUsers.groupBy(\"post_uniqueId\").count()"
   ]
  },
  {
   "cell_type": "code",
   "execution_count": null,
   "metadata": {},
   "outputs": [],
   "source": [
    "purchasedUsersGroupBy.show()"
   ]
  },
  {
   "cell_type": "code",
   "execution_count": null,
   "metadata": {
    "collapsed": true
   },
   "outputs": [],
   "source": []
  }
 ],
 "metadata": {
  "kernelspec": {
   "display_name": "Python 3",
   "language": "python",
   "name": "python3"
  },
  "language_info": {
   "codemirror_mode": {
    "name": "ipython",
    "version": 3
   },
   "file_extension": ".py",
   "mimetype": "text/x-python",
   "name": "python",
   "nbconvert_exporter": "python",
   "pygments_lexer": "ipython3",
   "version": "3.6.3"
  }
 },
 "nbformat": 4,
 "nbformat_minor": 2
}
