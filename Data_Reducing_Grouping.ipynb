{
 "cells": [
  {
   "cell_type": "code",
   "execution_count": null,
   "metadata": {
    "collapsed": true
   },
   "outputs": [],
   "source": [
    "#creating spark instance\n",
    "from pyspark.sql import SparkSession\n",
    "spark = SparkSession .builder.appName('removeduplicatescart').getOrCreate()"
   ]
  },
  {
   "cell_type": "code",
   "execution_count": null,
   "metadata": {
    "collapsed": true
   },
   "outputs": [],
   "source": [
    "#import libraries\n",
    "import pandas as pd\n",
    "import numpy as np\n",
    "from pyspark.sql import functions as sf"
   ]
  },
  {
   "cell_type": "code",
   "execution_count": null,
   "metadata": {
    "collapsed": true
   },
   "outputs": [],
   "source": [
    "#Read column names\n",
    "headers1 = spark.read.csv(\"sample1.csv\",inferSchema =True, header=True)\n",
    "#headers1.printSchema()"
   ]
  },
  {
   "cell_type": "code",
   "execution_count": null,
   "metadata": {
    "collapsed": true
   },
   "outputs": [],
   "source": [
    "#Read data from tsv file\n",
    "rows = spark.read.option(\"sep\", \"\\t\").csv(\"..\\hit_data.tsv\",inferSchema =True, header=False)\n",
    "#rows.printSchema()"
   ]
  },
  {
   "cell_type": "code",
   "execution_count": null,
   "metadata": {},
   "outputs": [],
   "source": [
    "#adding header to data\n",
    "rowsWithHeader1 = headers1.union(rows)\n",
    "#rowsWithHeader1.printSchema()\n",
    "rowsWithHeader1.count()"
   ]
  },
  {
   "cell_type": "code",
   "execution_count": null,
   "metadata": {},
   "outputs": [],
   "source": [
    "rowsWithHeader1 = rowsWithHeader1.filter(rowsWithHeader1.exclude_hit<=0)\n",
    "rowsCount = rowsWithHeader1.count()\n",
    "rowsCount"
   ]
  },
  {
   "cell_type": "code",
   "execution_count": null,
   "metadata": {
    "collapsed": true
   },
   "outputs": [],
   "source": [
    "#filtering rows based on hit_source column value. Exclude all rows with hit_source = 5,7,8,9.\n",
    "rowsWithHeader1 = rowsWithHeader1.filter(rowsWithHeader1.hit_source!=5)\n",
    "rowsWithHeader1 = rowsWithHeader1.filter(rowsWithHeader1.hit_source!=7)\n",
    "rowsWithHeader1 = rowsWithHeader1.filter(rowsWithHeader1.hit_source!=8)\n",
    "rowsWithHeader1 = rowsWithHeader1.filter(rowsWithHeader1.hit_source!=9)"
   ]
  },
  {
   "cell_type": "code",
   "execution_count": null,
   "metadata": {},
   "outputs": [],
   "source": [
    "#Selecting only post columns\n",
    "postData = rowsWithHeader1.select(*filter(lambda col: 'post_' in col,rowsWithHeader1.columns))\n",
    "#Printing no. of columns\n",
    "len(postData.columns)"
   ]
  },
  {
   "cell_type": "code",
   "execution_count": null,
   "metadata": {
    "collapsed": true
   },
   "outputs": [],
   "source": [
    "#Add a new column which conains values to idenify unique visitors\n",
    "postDataWithUniqueId = postData.withColumn('joined_column', sf.concat(sf.col('post_visid_high'),sf.lit(''), sf.col('post_visid_low')))"
   ]
  },
  {
   "cell_type": "code",
   "execution_count": null,
   "metadata": {
    "collapsed": true
   },
   "outputs": [],
   "source": [
    "#apart from post_ columns considering column obtained after joining the two post_ columns as mentioned above and mcvisid\n",
    "postDataWithUniqueId = postDataWithUniqueId.withColumnRenamed('joined_column', 'post_uniqueId')"
   ]
  },
  {
   "cell_type": "code",
   "execution_count": null,
   "metadata": {},
   "outputs": [],
   "source": [
    "#Select the column post_uniqueID\n",
    "UniqueId=postDataWithUniqueId.select('post_uniqueId')\n",
    "#Print count\n",
    "UniqueId.count()"
   ]
  },
  {
   "cell_type": "code",
   "execution_count": null,
   "metadata": {},
   "outputs": [],
   "source": [
    "#Removing post_mobile columns from dataframe\n",
    "postDataWithoutMobile = postDataWithUniqueId.drop(*filter(lambda col: 'mobile' in col,postData.columns))\n",
    "#Printing no. of columns\n",
    "len(postDataWithoutMobile.columns)"
   ]
  },
  {
   "cell_type": "code",
   "execution_count": null,
   "metadata": {},
   "outputs": [],
   "source": [
    "#select users with cart,ship,chkout4_confirm in referrer\n",
    "cartShipConfirmRows = postDataWithoutMobile.filter(postDataWithoutMobile.post_referrer.rlike(\"^(.)*(cart|CART|Cart|shipping|Ship|ship|chkout4_confirm)(.)*$\"))\n",
    "cartShipConfirmRows.count()"
   ]
  },
  {
   "cell_type": "code",
   "execution_count": null,
   "metadata": {},
   "outputs": [],
   "source": [
    "#storing all existing distinct users\n",
    "uniqueIdsWithCartShipConfirm = [list(x.asDict().values())[0] for x in cartShipConfirmRows.select(\"post_uniqueid\").distinct().collect()]\n",
    "print(\"{}\".format(len(uniqueIdsWithCartShipConfirm)))"
   ]
  },
  {
   "cell_type": "code",
   "execution_count": null,
   "metadata": {},
   "outputs": [],
   "source": [
    "#Get all rows of users having cart, ship, chkout4_confirm in post_referrer\n",
    "allRowsOfCartShipConfirmUsers = postDataWithoutMobile.where(postDataWithoutMobile.post_uniqueId.isin(uniqueIdsWithCartShipConfirm))\n",
    "#Print count\n",
    "allRowsOfCartShipConfirmUsersCount = allRowsOfCartShipConfirmUsers.count()\n",
    "allRowsOfCartShipConfirmUsersCount"
   ]
  },
  {
   "cell_type": "code",
   "execution_count": null,
   "metadata": {},
   "outputs": [],
   "source": [
    "#Regex to find event list having 1 at beginning, in middle and at end.\n",
    "event1CartShipConfirmRows = allRowsOfCartShipConfirmUsers.filter(allRowsOfCartShipConfirmUsers.post_event_list.rlike(\"^(1,[0-9 , . =]*|[0-9 , . =]*,1,[0-9 , . =]*|[0-9 , . =]*,1)$\"))\n",
    "#print count\n",
    "event1CartShipConfirmRows.count()"
   ]
  },
  {
   "cell_type": "code",
   "execution_count": null,
   "metadata": {},
   "outputs": [],
   "source": [
    "#Get unique Ids\n",
    "event1CartShipConfirmUniqueIds = [list(x.asDict().values())[0] for x in event1CartShipConfirmRows.select(\"post_uniqueid\").distinct().collect()]\n",
    "#print count\n",
    "print(\"{}\".format(len(event1CartShipConfirmUniqueIds)))"
   ]
  },
  {
   "cell_type": "code",
   "execution_count": null,
   "metadata": {},
   "outputs": [],
   "source": [
    "#Get abandoned userIds\n",
    "abandonedUsersIds = list(set(uniqueIdsWithCartShipConfirm) - set(event1CartShipConfirmUniqueIds))\n",
    "#print count\n",
    "print(\"{}\".format(len(abandonedUsersIds)))"
   ]
  },
  {
   "cell_type": "code",
   "execution_count": null,
   "metadata": {},
   "outputs": [],
   "source": [
    "#Reducing data by removing null columns\n",
    "allRowsOfCartShipConfirmUsersPDF = allRowsOfCartShipConfirmUsers.toPandas()\n",
    "allRowsOfCartShipConfirmUsersPDF.shape"
   ]
  },
  {
   "cell_type": "code",
   "execution_count": null,
   "metadata": {},
   "outputs": [],
   "source": [
    "#Removes any columns with null values\n",
    "rowsWithoutNullColumns = allRowsOfCartShipConfirmUsersPDF.dropna(axis=1,how='all')\n",
    "rowsWithoutNullColumns.shape"
   ]
  },
  {
   "cell_type": "code",
   "execution_count": null,
   "metadata": {},
   "outputs": [],
   "source": [
    "#Removing columns with 50% nulls \n",
    "rowsWithoutNullColumnsThresh50 = rowsWithoutNullColumns.dropna(axis=1,thresh=allRowsOfCartShipConfirmUsersCount/2)\n",
    "rowsWithoutNullColumnsThresh50.shape"
   ]
  },
  {
   "cell_type": "code",
   "execution_count": null,
   "metadata": {},
   "outputs": [],
   "source": [
    "#Removing columns with 20% nulls \n",
    "rowsWithoutNullColumnsThresh20 = rowsWithoutNullColumns.dropna(axis=1,thresh=allRowsOfCartShipConfirmUsersCount*4/5)\n",
    "rowsWithoutNullColumnsThresh20.shape"
   ]
  },
  {
   "cell_type": "code",
   "execution_count": null,
   "metadata": {},
   "outputs": [],
   "source": [
    "#Display dataframe\n",
    "rowsWithoutNullColumnsThresh50.columns"
   ]
  },
  {
   "cell_type": "code",
   "execution_count": null,
   "metadata": {},
   "outputs": [],
   "source": [
    "#Display prop columns \n",
    "rowsWithoutNullColumnsThresh50.filter(regex=(\"post_prop.*\"))"
   ]
  },
  {
   "cell_type": "code",
   "execution_count": null,
   "metadata": {},
   "outputs": [],
   "source": [
    "#Display prop14 column\n",
    "rowsWithoutNullColumnsThresh50.post_prop14"
   ]
  },
  {
   "cell_type": "code",
   "execution_count": null,
   "metadata": {},
   "outputs": [],
   "source": [
    "#Retreiving columns with no nulls \n",
    "rowsWithoutNullColumns0 = rowsWithoutNullColumns.dropna(axis=1,thresh=allRowsOfCartShipConfirmUsersCount)\n",
    "rowsWithoutNullColumns0.shape"
   ]
  },
  {
   "cell_type": "code",
   "execution_count": null,
   "metadata": {},
   "outputs": [],
   "source": [
    "#Columns with no nulls\n",
    "rowsWithoutNullColumnsThresh0.columns"
   ]
  },
  {
   "cell_type": "code",
   "execution_count": null,
   "metadata": {},
   "outputs": [],
   "source": [
    "rowsWithoutNullColumnsThresh0"
   ]
  },
  {
   "cell_type": "code",
   "execution_count": null,
   "metadata": {
    "collapsed": true
   },
   "outputs": [],
   "source": [
    "#Save dataframe to a csv file\n",
    "rowsWithoutNullColumnsThresh50.to_csv(\"reducedusersrows.csv\", index=False)"
   ]
  },
  {
   "cell_type": "code",
   "execution_count": null,
   "metadata": {
    "collapsed": true
   },
   "outputs": [],
   "source": [
    "#Read column names\n",
    "allUsers = spark.read.csv(\"reducedusersrows.csv\",inferSchema =True, header=True)\n",
    "#allUsers.printSchema()"
   ]
  },
  {
   "cell_type": "code",
   "execution_count": null,
   "metadata": {},
   "outputs": [],
   "source": [
    "#get all rows of abandoned users\n",
    "allRowsOfAbandonedUsers = allUsers.where(allUsers.post_uniqueId.isin(abandonedUsersIds))\n",
    "#print count\n",
    "allRowsOfAbandonedUsers.count()"
   ]
  },
  {
   "cell_type": "code",
   "execution_count": null,
   "metadata": {
    "collapsed": true
   },
   "outputs": [],
   "source": [
    "#Groupby abandoned users using post_uniqueId\n",
    "abandonedUsersGroupBy = allRowsOfAbandonedUsers.groupBy(\"post_uniqueId\").count()"
   ]
  },
  {
   "cell_type": "code",
   "execution_count": null,
   "metadata": {},
   "outputs": [],
   "source": [
    "abandonedUsersGroupBy.show()"
   ]
  },
  {
   "cell_type": "code",
   "execution_count": null,
   "metadata": {},
   "outputs": [],
   "source": [
    "#get all rows of purchased users\n",
    "allRowsOfPurchasedUsers = allUsers.where(allUsers.post_uniqueId.isin(event1CartShipConfirmUniqueIds))\n",
    "#print count\n",
    "allRowsOfPurchasedUsers.count()"
   ]
  },
  {
   "cell_type": "code",
   "execution_count": null,
   "metadata": {
    "collapsed": true
   },
   "outputs": [],
   "source": [
    "#Groupby purchased users using post_uniqueId\n",
    "purchasedUsersGroupBy = allRowsOfPurchasedUsers.groupBy(\"post_uniqueId\").count()"
   ]
  },
  {
   "cell_type": "code",
   "execution_count": null,
   "metadata": {},
   "outputs": [],
   "source": [
    "purchasedUsersGroupBy.show()"
   ]
  },
  {
   "cell_type": "code",
   "execution_count": null,
   "metadata": {},
   "outputs": [],
   "source": [
    "#Displaying column names\n",
    "allRowsOfPurchasedUsers.schema.names"
   ]
  },
  {
   "cell_type": "code",
   "execution_count": null,
   "metadata": {},
   "outputs": [],
   "source": [
    "#Selecting post_prop14 and post_referrer columns\n",
    "allRowsOfPurchasedUsers.select(\"post_prop14\",\"post_referrer\").show()"
   ]
  },
  {
   "cell_type": "code",
   "execution_count": null,
   "metadata": {},
   "outputs": [],
   "source": [
    "#Selecting evar34 and evar35 columns\n",
    "allRowsOfPurchasedUsers.select(\"post_evar34\",\"post_evar35\").show()"
   ]
  },
  {
   "cell_type": "code",
   "execution_count": null,
   "metadata": {},
   "outputs": [],
   "source": [
    "#Displaying schema\n",
    "allRowsOfPurchasedUsers.schema"
   ]
  }
 ],
 "metadata": {
  "kernelspec": {
   "display_name": "Python 3",
   "language": "python",
   "name": "python3"
  },
  "language_info": {
   "codemirror_mode": {
    "name": "ipython",
    "version": 3
   },
   "file_extension": ".py",
   "mimetype": "text/x-python",
   "name": "python",
   "nbconvert_exporter": "python",
   "pygments_lexer": "ipython3",
   "version": "3.6.3"
  }
 },
 "nbformat": 4,
 "nbformat_minor": 2
}
