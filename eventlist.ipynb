{
 "cells": [
  {
   "cell_type": "code",
   "execution_count": null,
   "metadata": {
    "collapsed": true
   },
   "outputs": [],
   "source": [
    "#import libraries\n",
    "import pandas as pd\n",
    "import numpy as np"
   ]
  },
  {
   "cell_type": "code",
   "execution_count": null,
   "metadata": {
    "collapsed": true
   },
   "outputs": [],
   "source": [
    "#Read tsv file\n",
    "dataFrame = pd.read_csv(\"version1/reducedusersrows.tsv\", sep = \"\\t\", header=0, encoding = \"latin1\")"
   ]
  },
  {
   "cell_type": "code",
   "execution_count": null,
   "metadata": {
    "collapsed": true
   },
   "outputs": [],
   "source": [
    "#Read tsv file\n",
    "result = pd.read_csv(\"version1/allsinglerows.tsv\", sep = \"\\t\", header=0, encoding = \"latin1\")"
   ]
  },
  {
   "cell_type": "code",
   "execution_count": null,
   "metadata": {
    "collapsed": true
   },
   "outputs": [],
   "source": [
    "#Retreive user id and events columns\n",
    "eventListRows = dataFrame[[\"post_uniqueId\",\"post_event_list\"]].reset_index(drop=True)"
   ]
  },
  {
   "cell_type": "code",
   "execution_count": null,
   "metadata": {
    "collapsed": true
   },
   "outputs": [],
   "source": [
    "#converting these columns into string type\n",
    "eventListRows['post_uniqueId'] = eventListRows['post_uniqueId'].astype(str)\n",
    "eventListRows['post_event_list'] = eventListRows['post_event_list'].astype(str)"
   ]
  },
  {
   "cell_type": "code",
   "execution_count": null,
   "metadata": {
    "collapsed": true
   },
   "outputs": [],
   "source": [
    "#Sort the rows by user id\n",
    "eventListRowsSort = eventListRows.sort_values(by=['post_uniqueId'])\n",
    "eventListRowsSort = eventListRowsSort.reset_index(drop=True)"
   ]
  },
  {
   "cell_type": "code",
   "execution_count": null,
   "metadata": {
    "collapsed": true
   },
   "outputs": [],
   "source": [
    "#Merge all the events performed by user into single row\n",
    "eventListRowsGroup = eventListRowsSort.groupby(['post_uniqueId'])['post_event_list'].apply(lambda x: ','.join(x)).reset_index()"
   ]
  },
  {
   "cell_type": "code",
   "execution_count": null,
   "metadata": {
    "collapsed": true
   },
   "outputs": [],
   "source": [
    "colNames = ['country','post_browser_height','post_browser_width','timespent','cartcount','eventcount']"
   ]
  },
  {
   "cell_type": "code",
   "execution_count": null,
   "metadata": {
    "collapsed": true
   },
   "outputs": [],
   "source": [
    "for c in colNames:\n",
    "    eventListRowsGroup[c] = result[c]"
   ]
  },
  {
   "cell_type": "code",
   "execution_count": null,
   "metadata": {
    "collapsed": true
   },
   "outputs": [],
   "source": [
    "#create an empty list\n",
    "eventList=[]"
   ]
  },
  {
   "cell_type": "code",
   "execution_count": null,
   "metadata": {
    "collapsed": true
   },
   "outputs": [],
   "source": [
    "#loop through each cell of event list column and remove duplicate events\n",
    "for index, row in eventListRowsGroup.iterrows():\n",
    "    templist = set(pd.Series(eventListRowsGroup['post_event_list'].iloc[index].split(',')).tolist())\n",
    "    eventList.append(\",\".join(templist))\n",
    "    #print(index)"
   ]
  },
  {
   "cell_type": "code",
   "execution_count": null,
   "metadata": {},
   "outputs": [],
   "source": [
    "eventList"
   ]
  },
  {
   "cell_type": "code",
   "execution_count": null,
   "metadata": {
    "collapsed": true
   },
   "outputs": [],
   "source": [
    "#Assigning events which doesnt contain duplicated events\n",
    "eventListRowsGroup['post_event_list'] = eventList"
   ]
  },
  {
   "cell_type": "code",
   "execution_count": null,
   "metadata": {
    "collapsed": true
   },
   "outputs": [],
   "source": [
    "#import Counter from library\n",
    "from collections import Counter"
   ]
  },
  {
   "cell_type": "code",
   "execution_count": null,
   "metadata": {
    "collapsed": true
   },
   "outputs": [],
   "source": [
    "#Get count of events\n",
    "eventsCount  = pd.Series(eventListRowsGroup['post_event_list'].str.replace('[\\[\\]\\']','').str.split(',').map(Counter).sum())"
   ]
  },
  {
   "cell_type": "code",
   "execution_count": null,
   "metadata": {
    "collapsed": true
   },
   "outputs": [],
   "source": [
    "#Initialize threshold\n",
    "thre1 = 4034/2 #50%\n",
    "thre2 = 4034/4 #25%\n",
    "#Filter using the threshold. All the values less than thre will be substitued witn nan values\n",
    "eventsCountThre = eventsCount.where(eventsCount<thre1)"
   ]
  },
  {
   "cell_type": "code",
   "execution_count": null,
   "metadata": {
    "collapsed": true
   },
   "outputs": [],
   "source": [
    "#Filtering the events which have ben performed atleast by 25% of users and atmost 50%\n",
    "eventsCountThre = eventsCountThre.where(eventsCount>thre2)"
   ]
  },
  {
   "cell_type": "code",
   "execution_count": null,
   "metadata": {
    "collapsed": true
   },
   "outputs": [],
   "source": [
    "#Remove nan values\n",
    "eventsCountThreWithoutNull = eventsCountThre.dropna()"
   ]
  },
  {
   "cell_type": "code",
   "execution_count": null,
   "metadata": {
    "collapsed": true
   },
   "outputs": [],
   "source": [
    "#Get all unique events after thre\n",
    "eventNumbersList = eventsCountThreWithoutNull.index.tolist()"
   ]
  },
  {
   "cell_type": "code",
   "execution_count": null,
   "metadata": {},
   "outputs": [],
   "source": [
    "#Count of events\n",
    "len(eventNumbersList)"
   ]
  },
  {
   "cell_type": "code",
   "execution_count": null,
   "metadata": {
    "collapsed": true
   },
   "outputs": [],
   "source": [
    "#Add the events as columns to dataframe\n",
    "for i in eventNumbersList:\n",
    "    name = 'event'+i\n",
    "    eventListRowsGroup[name] = 0"
   ]
  },
  {
   "cell_type": "code",
   "execution_count": null,
   "metadata": {
    "collapsed": true
   },
   "outputs": [],
   "source": [
    "#eventListRowsGroup"
   ]
  },
  {
   "cell_type": "code",
   "execution_count": null,
   "metadata": {},
   "outputs": [],
   "source": [
    "for index, row in eventListRowsGroup.iterrows():\n",
    "    templist = pd.Series(eventListRowsGroup['post_event_list'].iloc[index].replace('[\\[\\]\\']','').split(',')).tolist()\n",
    "    print(index)\n",
    "    commonlist = [value for value in eventNumbersList if value in templist]\n",
    "    for event in commonlist:\n",
    "        eventname = 'event'+event\n",
    "        eventListRowsGroup[eventname].iloc[index] = 1"
   ]
  },
  {
   "cell_type": "code",
   "execution_count": null,
   "metadata": {
    "collapsed": true,
    "scrolled": true
   },
   "outputs": [],
   "source": [
    "#eventListRowsGroup"
   ]
  },
  {
   "cell_type": "code",
   "execution_count": null,
   "metadata": {
    "collapsed": true
   },
   "outputs": [],
   "source": [
    "eventListRowsGroup['purchased'] = result['purchased']"
   ]
  },
  {
   "cell_type": "code",
   "execution_count": null,
   "metadata": {
    "collapsed": true
   },
   "outputs": [],
   "source": [
    "#eventListRowsGroup"
   ]
  },
  {
   "cell_type": "code",
   "execution_count": null,
   "metadata": {},
   "outputs": [],
   "source": [
    "eventListRowsGroup"
   ]
  },
  {
   "cell_type": "code",
   "execution_count": null,
   "metadata": {
    "collapsed": true
   },
   "outputs": [],
   "source": [
    "#Save dataframe to a tsv file\n",
    "eventListRowsGroup.to_csv(\"version1/modeldata.tsv\", sep=\"\\t\", index=False)"
   ]
  },
  {
   "cell_type": "code",
   "execution_count": null,
   "metadata": {
    "collapsed": true
   },
   "outputs": [],
   "source": []
  }
 ],
 "metadata": {
  "kernelspec": {
   "display_name": "Python 3",
   "language": "python",
   "name": "python3"
  },
  "language_info": {
   "codemirror_mode": {
    "name": "ipython",
    "version": 3
   },
   "file_extension": ".py",
   "mimetype": "text/x-python",
   "name": "python",
   "nbconvert_exporter": "python",
   "pygments_lexer": "ipython3",
   "version": "3.6.3"
  }
 },
 "nbformat": 4,
 "nbformat_minor": 2
}
