{
 "cells": [
  {
   "cell_type": "code",
   "execution_count": null,
   "metadata": {
    "collapsed": true
   },
   "outputs": [],
   "source": [
    "#creating spark instance\n",
    "from pyspark.sql import SparkSession\n",
    "spark = SparkSession .builder.appName('removeduplicatescart').getOrCreate()"
   ]
  },
  {
   "cell_type": "code",
   "execution_count": null,
   "metadata": {
    "collapsed": true
   },
   "outputs": [],
   "source": [
    "#import libraries\n",
    "import pandas as pd\n",
    "import numpy as np\n",
    "from pyspark.sql import functions as sf"
   ]
  },
  {
   "cell_type": "code",
   "execution_count": null,
   "metadata": {
    "collapsed": true
   },
   "outputs": [],
   "source": [
    "#Read column names\n",
    "headers1 = spark.read.csv(\"sample1.csv\",inferSchema =True, header=True)\n",
    "#headers1.printSchema()"
   ]
  },
  {
   "cell_type": "code",
   "execution_count": null,
   "metadata": {
    "collapsed": true
   },
   "outputs": [],
   "source": [
    "#Read data from tsv file\n",
    "rows = spark.read.option(\"sep\", \"\\t\").csv(\"..\\hit_data.tsv\",inferSchema =True, header=False)\n",
    "#rows.printSchema()"
   ]
  },
  {
   "cell_type": "code",
   "execution_count": null,
   "metadata": {
    "collapsed": true
   },
   "outputs": [],
   "source": [
    "#adding header to data\n",
    "rowsWithHeader1 = headers1.union(rows)\n",
    "#rowsWithHeader1.printSchema()\n",
    "rowsWithHeader1.count()"
   ]
  },
  {
   "cell_type": "code",
   "execution_count": null,
   "metadata": {
    "collapsed": true
   },
   "outputs": [],
   "source": [
    "rowsWithHeader1 = rowsWithHeader1.filter(rowsWithHeader1.exclude_hit<=0)\n",
    "rowsCount = rowsWithHeader1.count()\n",
    "rowsCount"
   ]
  },
  {
   "cell_type": "code",
   "execution_count": null,
   "metadata": {
    "collapsed": true
   },
   "outputs": [],
   "source": [
    "#filtering rows based on hit_source column value. Exclude all rows with hit_source = 5,7,8,9.\n",
    "rowsWithHeader1 = rowsWithHeader1.filter(rowsWithHeader1.hit_source!=5)\n",
    "rowsWithHeader1 = rowsWithHeader1.filter(rowsWithHeader1.hit_source!=7)\n",
    "rowsWithHeader1 = rowsWithHeader1.filter(rowsWithHeader1.hit_source!=8)\n",
    "rowsWithHeader1 = rowsWithHeader1.filter(rowsWithHeader1.hit_source!=9)"
   ]
  },
  {
   "cell_type": "code",
   "execution_count": null,
   "metadata": {
    "collapsed": true
   },
   "outputs": [],
   "source": [
    "#Selecting only post columns\n",
    "postData = rowsWithHeader1.select(*filter(lambda col: 'post_' in col,rowsWithHeader1.columns))\n",
    "#Printing no. of columns\n",
    "len(postData.columns)"
   ]
  },
  {
   "cell_type": "code",
   "execution_count": null,
   "metadata": {
    "collapsed": true
   },
   "outputs": [],
   "source": [
    "#Add a new column which conains values to idenify unique visitors\n",
    "postDataWithUniqueId = postData.withColumn('joined_column', sf.concat(sf.col('post_visid_high'),sf.lit(''), sf.col('post_visid_low')))"
   ]
  },
  {
   "cell_type": "code",
   "execution_count": null,
   "metadata": {
    "collapsed": true
   },
   "outputs": [],
   "source": [
    "#apart from post_ columns considering column obtained after joining the two post_ columns as mentioned above and mcvisid\n",
    "postDataWithUniqueId = postDataWithUniqueId.withColumnRenamed('joined_column', 'post_uniqueId')"
   ]
  },
  {
   "cell_type": "code",
   "execution_count": null,
   "metadata": {
    "collapsed": true
   },
   "outputs": [],
   "source": [
    "#Select the column post_uniqueID\n",
    "UniqueId=postDataWithUniqueId.select('post_uniqueId')\n",
    "#Print count\n",
    "UniqueId.count()"
   ]
  },
  {
   "cell_type": "code",
   "execution_count": null,
   "metadata": {
    "collapsed": true
   },
   "outputs": [],
   "source": [
    "postDataWithUniqueId.columns"
   ]
  },
  {
   "cell_type": "code",
   "execution_count": null,
   "metadata": {
    "collapsed": true
   },
   "outputs": [],
   "source": [
    "#Remove post_visid_high, post_visid_low after obtaining unique id\n",
    "postDataWithUniqueId = postDataWithUniqueId.drop('post_visid_high','post_visid_low')"
   ]
  },
  {
   "cell_type": "code",
   "execution_count": null,
   "metadata": {
    "collapsed": true
   },
   "outputs": [],
   "source": [
    "postDataWithUniqueId.schema"
   ]
  },
  {
   "cell_type": "code",
   "execution_count": null,
   "metadata": {
    "collapsed": true
   },
   "outputs": [],
   "source": [
    "#Removing post_mobile columns from dataframe\n",
    "#postDataWithoutMobile = postDataWithUniqueId.drop(*filter(lambda col: 'mobile' in col,postData.columns))\n",
    "#Printing no. of columns\n",
    "#len(postDataWithoutMobile.columns)"
   ]
  },
  {
   "cell_type": "code",
   "execution_count": null,
   "metadata": {
    "collapsed": true
   },
   "outputs": [],
   "source": [
    "#select users with cart,ship,chkout4_confirm in referrer\n",
    "#cartShipConfirmRows = postDataWithoutMobile.filter(postDataWithoutMobile.post_referrer.rlike(\"^(.)*(cart|CART|Cart|shipping|Ship|ship|chkout4_confirm)(.)*$\"))\n",
    "#cartShipConfirmRows.count()"
   ]
  },
  {
   "cell_type": "code",
   "execution_count": null,
   "metadata": {
    "collapsed": true
   },
   "outputs": [],
   "source": [
    "#Edit"
   ]
  },
  {
   "cell_type": "code",
   "execution_count": null,
   "metadata": {
    "collapsed": true,
    "scrolled": true
   },
   "outputs": [],
   "source": [
    "#Edit\n",
    "#select users with cart,ship,chkout4_confirm in referrer\n",
    "cartDellRows = postDataWithUniqueId.filter(postDataWithUniqueId.post_prop14.rlike(\"^(.)*(dell.com)(.)*(cart)(.)*$\"))\n",
    "cartDellRows.count()"
   ]
  },
  {
   "cell_type": "code",
   "execution_count": null,
   "metadata": {
    "collapsed": true,
    "scrolled": true
   },
   "outputs": [],
   "source": [
    "#storing all existing distinct users\n",
    "uniqueIdsWithCartDell = [list(x.asDict().values())[0] for x in cartDellRows.select(\"post_uniqueid\").distinct().collect()]\n",
    "print(\"{}\".format(len(uniqueIdsWithCartDell)))"
   ]
  },
  {
   "cell_type": "code",
   "execution_count": null,
   "metadata": {
    "collapsed": true
   },
   "outputs": [],
   "source": [
    "#Get all rows of users having cart, ship, chkout4_confirm in post_referrer\n",
    "allRowsOfCartDellUsers = postDataWithUniqueId.where(postDataWithUniqueId.post_uniqueId.isin(uniqueIdsWithCartDell))\n",
    "#Print count\n",
    "allRowsOfCartDellUsersCount = allRowsOfCartDellUsers.count()\n",
    "allRowsOfCartDellUsersCount"
   ]
  },
  {
   "cell_type": "code",
   "execution_count": null,
   "metadata": {
    "collapsed": true
   },
   "outputs": [],
   "source": [
    "#Regex to find event list having 1 at beginning, in middle and at end.\n",
    "event1CartDellRows = allRowsOfCartDellUsers.filter(allRowsOfCartDellUsers.post_event_list.rlike(\"^(1,[0-9 , . =]*|[0-9 , . =]*,1,[0-9 , . =]*|[0-9 , . =]*,1)$\"))\n",
    "#print count\n",
    "event1CartDellRows.count()"
   ]
  },
  {
   "cell_type": "code",
   "execution_count": null,
   "metadata": {
    "collapsed": true,
    "scrolled": true
   },
   "outputs": [],
   "source": [
    "#Get unique Ids\n",
    "event1CartDellUniqueIds = [list(x.asDict().values())[0] for x in event1CartDellRows.select(\"post_uniqueid\").distinct().collect()]\n",
    "#print count\n",
    "print(\"{}\".format(len(event1CartDellUniqueIds)))"
   ]
  },
  {
   "cell_type": "code",
   "execution_count": null,
   "metadata": {
    "collapsed": true,
    "scrolled": true
   },
   "outputs": [],
   "source": [
    "#Get abandoned userIds\n",
    "abandonedCartDellUsersIds = list(set(uniqueIdsWithCartDell) - set(event1CartDellUniqueIds))\n",
    "#print count\n",
    "print(\"{}\".format(len(abandonedCartDellUsersIds)))"
   ]
  },
  {
   "cell_type": "code",
   "execution_count": null,
   "metadata": {
    "collapsed": true
   },
   "outputs": [],
   "source": [
    "#Reducing data by removing null columns\n",
    "allRowsOfCartDellUsersPDF = allRowsOfCartDellUsers.toPandas()\n",
    "allRowsOfCartDellUsersPDF.shape"
   ]
  },
  {
   "cell_type": "code",
   "execution_count": null,
   "metadata": {
    "collapsed": true
   },
   "outputs": [],
   "source": []
  },
  {
   "cell_type": "code",
   "execution_count": null,
   "metadata": {
    "collapsed": true
   },
   "outputs": [],
   "source": [
    "#Edit"
   ]
  },
  {
   "cell_type": "code",
   "execution_count": null,
   "metadata": {
    "collapsed": true
   },
   "outputs": [],
   "source": [
    "#Removes any columns with null values\n",
    "rowsWithoutNullColumns = allRowsOfCartDellUsersPDF.dropna(axis=1,how='all')\n",
    "rowsWithoutNullColumns.shape"
   ]
  },
  {
   "cell_type": "code",
   "execution_count": null,
   "metadata": {
    "collapsed": true
   },
   "outputs": [],
   "source": [
    "#Removing columns with 50% nulls \n",
    "rowsWithoutNullColumnsThresh50 = rowsWithoutNullColumns.dropna(axis=1,thresh=allRowsOfCartDellUsersCount/2)\n",
    "rowsWithoutNullColumnsThresh50.shape"
   ]
  },
  {
   "cell_type": "code",
   "execution_count": null,
   "metadata": {
    "collapsed": true
   },
   "outputs": [],
   "source": [
    "#test50 = rowsWithoutNullColumnsThresh50.copy()\n",
    "#test50.loc[test50['post_uniqueId'].str.isdigit(), 'post_uniqueId'] = pd.to_numeric(test50['post_uniqueId'], errors='coerce')\n",
    "#test50['post_uniqueId'] = test50['post_uniqueId'].astype(np.float64)\n",
    "#test50['post_uniqueId'] = test50['post_uniqueId'].astype(str)\n",
    "#test50.dtypes\n",
    "#test50.to_csv(\"test50.csv\", index=False)"
   ]
  },
  {
   "cell_type": "code",
   "execution_count": null,
   "metadata": {
    "collapsed": true
   },
   "outputs": [],
   "source": [
    "#Save dataframe to a csv file\n",
    "#rowsWithoutNullColumnsThresh50.to_csv(\"reducedusersrows.csv\", index=False)\n",
    "#Save dataframe to a tsv file\n",
    "rowsWithoutNullColumnsThresh50.to_csv(\"version1/reducedusersrows.tsv\", sep=\"\\t\", index=False)"
   ]
  },
  {
   "cell_type": "code",
   "execution_count": null,
   "metadata": {
    "collapsed": true
   },
   "outputs": [],
   "source": [
    "#Read csv file\n",
    "#allUsers = spark.read.csv(\"reducedusersrows.csv\",inferSchema =True, header=True)\n",
    "#Read tsv file\n",
    "allUsers = spark.read.option(\"sep\", \"\\t\").csv(\"version1/reducedusersrows.tsv\",inferSchema =True, header=True)\n",
    "#allUsers.printSchema()"
   ]
  },
  {
   "cell_type": "code",
   "execution_count": null,
   "metadata": {
    "collapsed": true
   },
   "outputs": [],
   "source": [
    "allUsers.schema.names"
   ]
  },
  {
   "cell_type": "code",
   "execution_count": null,
   "metadata": {
    "collapsed": true
   },
   "outputs": [],
   "source": [
    "#get all rows of abandoned users\n",
    "allRowsOfAbandonedUsers = allUsers.where(allUsers.post_uniqueId.isin(abandonedCartDellUsersIds))\n",
    "#print count\n",
    "allRowsOfAbandonedUsers.count()"
   ]
  },
  {
   "cell_type": "code",
   "execution_count": null,
   "metadata": {
    "collapsed": true
   },
   "outputs": [],
   "source": [
    "#Groupby abandoned users using post_uniqueId\n",
    "abandonedUsersGroupBy = allRowsOfAbandonedUsers.groupBy(\"post_uniqueId\").count()"
   ]
  },
  {
   "cell_type": "code",
   "execution_count": null,
   "metadata": {
    "collapsed": true
   },
   "outputs": [],
   "source": [
    "abandonedUsersGroupBy.show()"
   ]
  },
  {
   "cell_type": "code",
   "execution_count": null,
   "metadata": {
    "collapsed": true
   },
   "outputs": [],
   "source": [
    "#get all rows of purchased users\n",
    "allRowsOfPurchasedUsers = allUsers.where(allUsers.post_uniqueId.isin(event1CartDellUniqueIds))\n",
    "#print count\n",
    "allRowsOfPurchasedUsers.count()"
   ]
  },
  {
   "cell_type": "code",
   "execution_count": null,
   "metadata": {
    "collapsed": true
   },
   "outputs": [],
   "source": [
    "#Groupby purchased users using post_uniqueId\n",
    "purchasedUsersGroupBy = allRowsOfPurchasedUsers.groupBy(\"post_uniqueId\").count()"
   ]
  },
  {
   "cell_type": "code",
   "execution_count": null,
   "metadata": {
    "collapsed": true
   },
   "outputs": [],
   "source": [
    "purchasedUsersGroupBy.show()"
   ]
  },
  {
   "cell_type": "code",
   "execution_count": null,
   "metadata": {
    "collapsed": true
   },
   "outputs": [],
   "source": [
    "#Displaying column names\n",
    "#allRowsOfPurchasedUsers.schema.names"
   ]
  },
  {
   "cell_type": "code",
   "execution_count": null,
   "metadata": {
    "collapsed": true
   },
   "outputs": [],
   "source": [
    "#Selecting post_prop14 and post_referrer columns\n",
    "allRowsOfPurchasedUsers.select(\"post_prop14\",\"post_referrer\").show()"
   ]
  },
  {
   "cell_type": "code",
   "execution_count": null,
   "metadata": {
    "collapsed": true
   },
   "outputs": [],
   "source": [
    "#Selecting evar34 and evar35 columns\n",
    "allRowsOfPurchasedUsers.select(\"post_evar34\",\"post_evar35\").show()"
   ]
  },
  {
   "cell_type": "code",
   "execution_count": null,
   "metadata": {
    "collapsed": true
   },
   "outputs": [],
   "source": [
    "#Displaying schema\n",
    "#allRowsOfPurchasedUsers.schema"
   ]
  },
  {
   "cell_type": "code",
   "execution_count": null,
   "metadata": {
    "collapsed": true
   },
   "outputs": [],
   "source": [
    "#Convert to pandas Dataframe\n",
    "purchasedPDF = allRowsOfPurchasedUsers.toPandas()"
   ]
  },
  {
   "cell_type": "code",
   "execution_count": null,
   "metadata": {
    "collapsed": true
   },
   "outputs": [],
   "source": [
    "#print\n",
    "purchasedPDF"
   ]
  },
  {
   "cell_type": "code",
   "execution_count": null,
   "metadata": {
    "collapsed": true
   },
   "outputs": [],
   "source": [
    "#purchasedPDF1 = pd.concat([purchasedPDF[col].dropna().reset_index(drop=True) for col in purchasedPDF], axis=1)"
   ]
  },
  {
   "cell_type": "code",
   "execution_count": null,
   "metadata": {
    "collapsed": true
   },
   "outputs": [],
   "source": [
    "#print column datatypes\n",
    "purchasedPDF.dtypes"
   ]
  },
  {
   "cell_type": "code",
   "execution_count": null,
   "metadata": {
    "collapsed": true
   },
   "outputs": [],
   "source": [
    "#converting columns to string type Not Working\n",
    "#purchasedPDF.astype(str)\n",
    "#purchasedPDF.dtypes"
   ]
  },
  {
   "cell_type": "code",
   "execution_count": null,
   "metadata": {
    "collapsed": true
   },
   "outputs": [],
   "source": [
    "#fill na values with none\n",
    "purchasedPDFFill = purchasedPDF.fillna('none')"
   ]
  },
  {
   "cell_type": "code",
   "execution_count": null,
   "metadata": {
    "collapsed": true
   },
   "outputs": [],
   "source": [
    "#Sort by user id\n",
    "purchasedPDFFill = purchasedPDFFill.sort_values(by=['post_uniqueId'])\n",
    "purchasedPDFFill = purchasedPDFFill.reset_index(drop=True)"
   ]
  },
  {
   "cell_type": "code",
   "execution_count": null,
   "metadata": {
    "collapsed": true
   },
   "outputs": [],
   "source": [
    "#Convert all columns to string type\n",
    "purchasedPDFFillString = purchasedPDFFill.applymap(str)\n",
    "purchasedPDFFillString.dtypes"
   ]
  },
  {
   "cell_type": "code",
   "execution_count": null,
   "metadata": {
    "collapsed": true
   },
   "outputs": [],
   "source": [
    "#create an empty dataframe\n",
    "purchasedSingleRow = pd.DataFrame()"
   ]
  },
  {
   "cell_type": "code",
   "execution_count": null,
   "metadata": {
    "collapsed": true
   },
   "outputs": [],
   "source": [
    "#Storing uniqueid\n",
    "purchasedSingleRow['post_uniqueId'] = purchasedPDFFillString.groupby(['post_uniqueId'])['post_uniqueId'].count().index.get_level_values('post_uniqueId')\n",
    "#purchasedSingleRow is a dataframe containing post_uniqueId column"
   ]
  },
  {
   "cell_type": "code",
   "execution_count": null,
   "metadata": {
    "collapsed": true
   },
   "outputs": [],
   "source": [
    "type(purchasedSingleRow)"
   ]
  },
  {
   "cell_type": "code",
   "execution_count": null,
   "metadata": {
    "collapsed": true
   },
   "outputs": [],
   "source": [
    "purchasedSingleRow"
   ]
  },
  {
   "cell_type": "code",
   "execution_count": null,
   "metadata": {
    "collapsed": true
   },
   "outputs": [],
   "source": [
    "#purchasedSingleRow.drop('index', axis = 1, inplace=True)"
   ]
  },
  {
   "cell_type": "code",
   "execution_count": null,
   "metadata": {
    "collapsed": true
   },
   "outputs": [],
   "source": [
    "#Getiing browser height of each user\n",
    "h = purchasedPDFFill.groupby(['post_uniqueId'])['post_browser_height'].apply(lambda x: x.max()).reset_index()"
   ]
  },
  {
   "cell_type": "code",
   "execution_count": null,
   "metadata": {
    "collapsed": true
   },
   "outputs": [],
   "source": [
    "h['post_uniqueId'] = h['post_uniqueId'].astype(str)\n",
    "h = h.sort_values(by=['post_uniqueId'])\n",
    "h = h.reset_index(drop=True)"
   ]
  },
  {
   "cell_type": "code",
   "execution_count": null,
   "metadata": {
    "collapsed": true
   },
   "outputs": [],
   "source": [
    "#Getiing browser width of each user\n",
    "w = purchasedPDFFill.groupby(['post_uniqueId'])['post_browser_width'].apply(lambda x: x.max()).reset_index()"
   ]
  },
  {
   "cell_type": "code",
   "execution_count": null,
   "metadata": {
    "collapsed": true
   },
   "outputs": [],
   "source": [
    "w['post_uniqueId'] = w['post_uniqueId'].astype(str)\n",
    "w = w.sort_values(by=['post_uniqueId'])\n",
    "w = w.reset_index(drop=True)"
   ]
  },
  {
   "cell_type": "code",
   "execution_count": null,
   "metadata": {
    "collapsed": true
   },
   "outputs": [],
   "source": []
  },
  {
   "cell_type": "code",
   "execution_count": null,
   "metadata": {
    "collapsed": true
   },
   "outputs": [],
   "source": [
    "#edit\n",
    "#Get time spent by user\n",
    "diff = purchasedPDFFill.groupby(['post_uniqueId'])['post_cust_hit_time_gmt'].apply(lambda x: x.max()-x.min()).reset_index()"
   ]
  },
  {
   "cell_type": "code",
   "execution_count": null,
   "metadata": {
    "collapsed": true
   },
   "outputs": [],
   "source": [
    "#sorting\n",
    "diff['post_uniqueId'] = diff['post_uniqueId'].astype(str)\n",
    "diff = diff.sort_values(by=['post_uniqueId'])\n",
    "diff = diff.reset_index(drop=True)"
   ]
  },
  {
   "cell_type": "code",
   "execution_count": null,
   "metadata": {
    "collapsed": true
   },
   "outputs": [],
   "source": [
    "#add new column timespent\n",
    "purchasedSingleRow['timespent'] = diff['post_cust_hit_time_gmt']"
   ]
  },
  {
   "cell_type": "code",
   "execution_count": null,
   "metadata": {
    "collapsed": true
   },
   "outputs": [],
   "source": [
    "for cols in purchasedPDFFillString.columns:\n",
    "    if (cols != 'post_uniqueId'):\n",
    "        temp = purchasedPDFFillString.groupby(['post_uniqueId'])[cols].apply(lambda x: '~'.join(x)).reset_index()\n",
    "        purchasedSingleRow[cols] = temp[cols]"
   ]
  },
  {
   "cell_type": "code",
   "execution_count": null,
   "metadata": {
    "collapsed": true
   },
   "outputs": [],
   "source": [
    "#replacing post_browser_height with single value\n",
    "purchasedSingleRow['post_browser_height'] = h['post_browser_height']"
   ]
  },
  {
   "cell_type": "code",
   "execution_count": null,
   "metadata": {
    "collapsed": true
   },
   "outputs": [],
   "source": [
    "#replacing post_browser_width with single value\n",
    "purchasedSingleRow['post_browser_width'] = w['post_browser_width']"
   ]
  },
  {
   "cell_type": "code",
   "execution_count": null,
   "metadata": {
    "collapsed": true,
    "scrolled": true
   },
   "outputs": [],
   "source": [
    "purchasedSingleRow"
   ]
  },
  {
   "cell_type": "code",
   "execution_count": null,
   "metadata": {
    "collapsed": true
   },
   "outputs": [],
   "source": [
    "type(purchasedSingleRow)"
   ]
  },
  {
   "cell_type": "code",
   "execution_count": null,
   "metadata": {
    "collapsed": true
   },
   "outputs": [],
   "source": [
    "#edit"
   ]
  },
  {
   "cell_type": "code",
   "execution_count": null,
   "metadata": {
    "collapsed": true
   },
   "outputs": [],
   "source": [
    "#Get count of number times cart was accessed\n",
    "import re\n",
    "purchasedSingleRow['cartcount'] = purchasedSingleRow['post_prop14'].apply(lambda x: len(re.findall(\"cart\", x)))"
   ]
  },
  {
   "cell_type": "code",
   "execution_count": null,
   "metadata": {
    "collapsed": true
   },
   "outputs": [],
   "source": [
    "purchasedSingleRow['eventcount'] = purchasedSingleRow['post_event_list'].apply(lambda x: len(re.findall(\",\", x))+len(re.findall(\"~\", x))+1)"
   ]
  },
  {
   "cell_type": "code",
   "execution_count": null,
   "metadata": {
    "collapsed": true
   },
   "outputs": [],
   "source": [
    "#1 if user purchased 0 if abandoned\n",
    "purchasedSingleRow['purchased'] = 1"
   ]
  },
  {
   "cell_type": "code",
   "execution_count": null,
   "metadata": {
    "collapsed": true,
    "scrolled": true
   },
   "outputs": [],
   "source": [
    "purchasedSingleRow[['cartcount','eventcount','timespent','purchased']]"
   ]
  },
  {
   "cell_type": "code",
   "execution_count": null,
   "metadata": {
    "collapsed": true
   },
   "outputs": [],
   "source": [
    "#Convert to pandas Dataframe\n",
    "abandonedPDF = allRowsOfAbandonedUsers.toPandas()"
   ]
  },
  {
   "cell_type": "code",
   "execution_count": null,
   "metadata": {
    "collapsed": true
   },
   "outputs": [],
   "source": [
    "#print\n",
    "abandonedPDF"
   ]
  },
  {
   "cell_type": "code",
   "execution_count": null,
   "metadata": {
    "collapsed": true
   },
   "outputs": [],
   "source": [
    "#purchasedPDF1 = pd.concat([purchasedPDF[col].dropna().reset_index(drop=True) for col in purchasedPDF], axis=1)"
   ]
  },
  {
   "cell_type": "code",
   "execution_count": null,
   "metadata": {
    "collapsed": true
   },
   "outputs": [],
   "source": [
    "#print column datatypes\n",
    "abandonedPDF.dtypes"
   ]
  },
  {
   "cell_type": "code",
   "execution_count": null,
   "metadata": {
    "collapsed": true
   },
   "outputs": [],
   "source": [
    "#fill na values with none\n",
    "abandonedPDFFill = abandonedPDF.fillna('none')"
   ]
  },
  {
   "cell_type": "code",
   "execution_count": null,
   "metadata": {
    "collapsed": true
   },
   "outputs": [],
   "source": [
    "#Sort by user id\n",
    "abandonedPDFFill = abandonedPDFFill.sort_values(by=['post_uniqueId'])\n",
    "abandonedPDFFill = abandonedPDFFill.reset_index(drop=True)"
   ]
  },
  {
   "cell_type": "code",
   "execution_count": null,
   "metadata": {
    "collapsed": true
   },
   "outputs": [],
   "source": [
    "abandonedPDFFill"
   ]
  },
  {
   "cell_type": "code",
   "execution_count": null,
   "metadata": {
    "collapsed": true
   },
   "outputs": [],
   "source": [
    "#Convert all columns to string type\n",
    "abandonedPDFFillString = abandonedPDFFill.applymap(str)\n",
    "abandonedPDFFillString"
   ]
  },
  {
   "cell_type": "code",
   "execution_count": null,
   "metadata": {
    "collapsed": true
   },
   "outputs": [],
   "source": [
    "#create an empty dataframe\n",
    "abandonedSingleRow = pd.DataFrame()"
   ]
  },
  {
   "cell_type": "code",
   "execution_count": null,
   "metadata": {
    "collapsed": true
   },
   "outputs": [],
   "source": [
    "#Storing uniqueid\n",
    "abandonedSingleRow['post_uniqueId'] = abandonedPDFFillString.groupby(['post_uniqueId'])['post_uniqueId'].count().index.get_level_values('post_uniqueId')\n",
    "#purchasedSingleRow is a dataframe containing post_uniqueId column"
   ]
  },
  {
   "cell_type": "code",
   "execution_count": null,
   "metadata": {
    "collapsed": true
   },
   "outputs": [],
   "source": [
    "type(abandonedSingleRow)"
   ]
  },
  {
   "cell_type": "code",
   "execution_count": null,
   "metadata": {
    "collapsed": true
   },
   "outputs": [],
   "source": [
    "abandonedSingleRow"
   ]
  },
  {
   "cell_type": "code",
   "execution_count": null,
   "metadata": {
    "collapsed": true
   },
   "outputs": [],
   "source": [
    "#purchasedSingleRow.drop('index', axis = 1, inplace=True)"
   ]
  },
  {
   "cell_type": "code",
   "execution_count": null,
   "metadata": {
    "collapsed": true
   },
   "outputs": [],
   "source": [
    "#Getiing browser height of each user\n",
    "h1 = abandonedPDFFill.groupby(['post_uniqueId'])['post_browser_height'].apply(lambda x: x.max()).reset_index()"
   ]
  },
  {
   "cell_type": "code",
   "execution_count": null,
   "metadata": {
    "collapsed": true
   },
   "outputs": [],
   "source": [
    "h1['post_uniqueId'] = h1['post_uniqueId'].astype(str)\n",
    "h1 = h1.sort_values(by=['post_uniqueId'])\n",
    "h1 = h1.reset_index(drop=True)"
   ]
  },
  {
   "cell_type": "code",
   "execution_count": null,
   "metadata": {
    "collapsed": true
   },
   "outputs": [],
   "source": [
    "#Getiing browser width of each user\n",
    "w1 = abandonedPDFFill.groupby(['post_uniqueId'])['post_browser_width'].apply(lambda x: x.max()).reset_index()"
   ]
  },
  {
   "cell_type": "code",
   "execution_count": null,
   "metadata": {
    "collapsed": true
   },
   "outputs": [],
   "source": [
    "w1['post_uniqueId'] = w1['post_uniqueId'].astype(str)\n",
    "w1 = w1.sort_values(by=['post_uniqueId'])\n",
    "w1 = w1.reset_index(drop=True)"
   ]
  },
  {
   "cell_type": "code",
   "execution_count": null,
   "metadata": {
    "collapsed": true
   },
   "outputs": [],
   "source": [
    "#edit\n",
    "#Get time spent by user\n",
    "diff1 = abandonedPDFFill.groupby(['post_uniqueId'])['post_cust_hit_time_gmt'].apply(lambda x: x.max()-x.min()).reset_index()"
   ]
  },
  {
   "cell_type": "code",
   "execution_count": null,
   "metadata": {
    "collapsed": true
   },
   "outputs": [],
   "source": [
    "#sorting\n",
    "diff1['post_uniqueId'] = diff1['post_uniqueId'].astype(str)\n",
    "diff1 = diff1.sort_values(by=['post_uniqueId'])\n",
    "diff1 = diff1.reset_index(drop=True)"
   ]
  },
  {
   "cell_type": "code",
   "execution_count": null,
   "metadata": {
    "collapsed": true
   },
   "outputs": [],
   "source": [
    "#add new column timespent\n",
    "abandonedSingleRow['timespent'] = diff1['post_cust_hit_time_gmt']"
   ]
  },
  {
   "cell_type": "code",
   "execution_count": null,
   "metadata": {
    "collapsed": true
   },
   "outputs": [],
   "source": [
    "for cols in abandonedPDFFillString.columns:\n",
    "    if (cols != 'post_uniqueId'):\n",
    "        temp = abandonedPDFFillString.groupby(['post_uniqueId'])[cols].apply(lambda x: '~'.join(x)).reset_index()\n",
    "        abandonedSingleRow[cols] = temp[cols]"
   ]
  },
  {
   "cell_type": "code",
   "execution_count": null,
   "metadata": {
    "collapsed": true
   },
   "outputs": [],
   "source": [
    "#replacing post_browser_height with single value\n",
    "abandonedSingleRow['post_browser_height'] = h1['post_browser_height']"
   ]
  },
  {
   "cell_type": "code",
   "execution_count": null,
   "metadata": {
    "collapsed": true
   },
   "outputs": [],
   "source": [
    "#replacing post_browser_width with single value\n",
    "abandonedSingleRow['post_browser_width'] = w1['post_browser_width']"
   ]
  },
  {
   "cell_type": "code",
   "execution_count": null,
   "metadata": {
    "collapsed": true
   },
   "outputs": [],
   "source": [
    "abandonedSingleRow"
   ]
  },
  {
   "cell_type": "code",
   "execution_count": null,
   "metadata": {
    "collapsed": true
   },
   "outputs": [],
   "source": [
    "#edit"
   ]
  },
  {
   "cell_type": "code",
   "execution_count": null,
   "metadata": {
    "collapsed": true
   },
   "outputs": [],
   "source": [
    "#Get count of number times cart was accessed\n",
    "abandonedSingleRow['cartcount'] = abandonedSingleRow['post_prop14'].apply(lambda x: len(re.findall(\"cart\", x)))"
   ]
  },
  {
   "cell_type": "code",
   "execution_count": null,
   "metadata": {
    "collapsed": true
   },
   "outputs": [],
   "source": [
    "abandonedSingleRow['eventcount'] = abandonedSingleRow['post_event_list'].apply(lambda x: len(re.findall(\",\", x))+len(re.findall(\"~\", x))+1)"
   ]
  },
  {
   "cell_type": "code",
   "execution_count": null,
   "metadata": {
    "collapsed": true
   },
   "outputs": [],
   "source": [
    "abandonedSingleRow['purchased'] = 0"
   ]
  },
  {
   "cell_type": "code",
   "execution_count": null,
   "metadata": {
    "collapsed": true,
    "scrolled": true
   },
   "outputs": [],
   "source": [
    "abandonedSingleRow[['cartcount','eventcount','timespent','purchased']]"
   ]
  },
  {
   "cell_type": "code",
   "execution_count": null,
   "metadata": {
    "collapsed": true
   },
   "outputs": [],
   "source": [
    "#merge two dataframes\n",
    "result = pd.concat([purchasedSingleRow,abandonedSingleRow], ignore_index=True)"
   ]
  },
  {
   "cell_type": "code",
   "execution_count": null,
   "metadata": {
    "collapsed": true
   },
   "outputs": [],
   "source": [
    "result"
   ]
  },
  {
   "cell_type": "code",
   "execution_count": null,
   "metadata": {
    "collapsed": true
   },
   "outputs": [],
   "source": [
    "#sorting\n",
    "result = result.sort_values(by=['post_uniqueId'])\n",
    "result = result.reset_index(drop=True)"
   ]
  },
  {
   "cell_type": "code",
   "execution_count": null,
   "metadata": {
    "collapsed": true
   },
   "outputs": [],
   "source": [
    "result"
   ]
  },
  {
   "cell_type": "code",
   "execution_count": null,
   "metadata": {
    "collapsed": true
   },
   "outputs": [],
   "source": [
    "countryList =[]\n",
    "for index, row in result.iterrows():\n",
    "    countryList.insert(index,row[\"post_prop2\"].partition(\"~\")[0])"
   ]
  },
  {
   "cell_type": "code",
   "execution_count": null,
   "metadata": {
    "collapsed": true
   },
   "outputs": [],
   "source": [
    "result[\"country\"] = countryList"
   ]
  },
  {
   "cell_type": "code",
   "execution_count": null,
   "metadata": {
    "collapsed": true
   },
   "outputs": [],
   "source": [
    "#Save dataframe to a tsv file\n",
    "result.to_csv(\"version1/allsinglerows.tsv\", sep=\"\\t\", index=False)"
   ]
  },
  {
   "cell_type": "code",
   "execution_count": null,
   "metadata": {
    "collapsed": true
   },
   "outputs": [],
   "source": [
    "#abandonedPDFFill.loc[abandonedPDFFill['post_uniqueId'] == 10250474667431045952961007694782875117]"
   ]
  },
  {
   "cell_type": "code",
   "execution_count": null,
   "metadata": {
    "collapsed": true
   },
   "outputs": [],
   "source": [
    "result.iloc[:, 40:60 ]\n"
   ]
  },
  {
   "cell_type": "code",
   "execution_count": null,
   "metadata": {
    "collapsed": true
   },
   "outputs": [],
   "source": []
  }
 ],
 "metadata": {
  "kernelspec": {
   "display_name": "Python 3",
   "language": "python",
   "name": "python3"
  },
  "language_info": {
   "codemirror_mode": {
    "name": "ipython",
    "version": 3
   },
   "file_extension": ".py",
   "mimetype": "text/x-python",
   "name": "python",
   "nbconvert_exporter": "python",
   "pygments_lexer": "ipython3",
   "version": "3.6.3"
  }
 },
 "nbformat": 4,
 "nbformat_minor": 2
}
