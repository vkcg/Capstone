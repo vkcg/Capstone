{
 "cells": [
  {
   "cell_type": "code",
   "execution_count": null,
   "metadata": {
    "collapsed": true
   },
   "outputs": [],
   "source": [
    "#creating spark instance\n",
    "from pyspark.sql import SparkSession\n",
    "spark = SparkSession .builder.appName('removeduplicatescart').getOrCreate()"
   ]
  },
  {
   "cell_type": "code",
   "execution_count": null,
   "metadata": {
    "collapsed": true
   },
   "outputs": [],
   "source": [
    "#import libraries\n",
    "import pandas as pd\n",
    "import numpy as np\n",
    "from pyspark.sql import functions as sf"
   ]
  },
  {
   "cell_type": "code",
   "execution_count": null,
   "metadata": {
    "collapsed": true
   },
   "outputs": [],
   "source": [
    "#Read column names\n",
    "headers1 = spark.read.csv(\"sample1.csv\",inferSchema =True, header=True)\n",
    "#headers1.printSchema()"
   ]
  },
  {
   "cell_type": "code",
   "execution_count": null,
   "metadata": {
    "collapsed": true
   },
   "outputs": [],
   "source": [
    "#Read data from tsv file\n",
    "rows = spark.read.option(\"sep\", \"\\t\").csv(\"..\\hit_data.tsv\",inferSchema =True, header=False)\n",
    "#rows.printSchema()"
   ]
  },
  {
   "cell_type": "code",
   "execution_count": null,
   "metadata": {},
   "outputs": [],
   "source": [
    "#adding header to data\n",
    "rowsWithHeader1 = headers1.union(rows)\n",
    "#rowsWithHeader1.printSchema()\n",
    "rowsWithHeader1.count()"
   ]
  },
  {
   "cell_type": "code",
   "execution_count": null,
   "metadata": {},
   "outputs": [],
   "source": [
    "rowsWithHeader1 = rowsWithHeader1.filter(rowsWithHeader1.exclude_hit<=0)\n",
    "rowsCount = rowsWithHeader1.count()\n",
    "rowsCount"
   ]
  },
  {
   "cell_type": "code",
   "execution_count": null,
   "metadata": {
    "collapsed": true
   },
   "outputs": [],
   "source": [
    "#filtering rows based on hit_source column value. Exclude all rows with hit_source = 5,7,8,9.\n",
    "rowsWithHeader1 = rowsWithHeader1.filter(rowsWithHeader1.hit_source!=5)\n",
    "rowsWithHeader1 = rowsWithHeader1.filter(rowsWithHeader1.hit_source!=7)\n",
    "rowsWithHeader1 = rowsWithHeader1.filter(rowsWithHeader1.hit_source!=8)\n",
    "rowsWithHeader1 = rowsWithHeader1.filter(rowsWithHeader1.hit_source!=9)"
   ]
  },
  {
   "cell_type": "code",
   "execution_count": null,
   "metadata": {},
   "outputs": [],
   "source": [
    "#Selecting only post columns\n",
    "postData = rowsWithHeader1.select(*filter(lambda col: 'post_' in col,rowsWithHeader1.columns))\n",
    "#Printing no. of columns\n",
    "len(postData.columns)"
   ]
  },
  {
   "cell_type": "code",
   "execution_count": null,
   "metadata": {
    "collapsed": true
   },
   "outputs": [],
   "source": [
    "#Add a new column which conains values to idenify unique visitors\n",
    "postDataWithUniqueId = postData.withColumn('joined_column', sf.concat(sf.col('post_visid_high'),sf.lit(''), sf.col('post_visid_low')))"
   ]
  },
  {
   "cell_type": "code",
   "execution_count": null,
   "metadata": {
    "collapsed": true
   },
   "outputs": [],
   "source": [
    "#apart from post_ columns considering column obtained after joining the two post_ columns as mentioned above and mcvisid\n",
    "postDataWithUniqueId = postDataWithUniqueId.withColumnRenamed('joined_column', 'post_uniqueId')"
   ]
  },
  {
   "cell_type": "code",
   "execution_count": null,
   "metadata": {},
   "outputs": [],
   "source": [
    "#Select the column post_uniqueID\n",
    "UniqueId=postDataWithUniqueId.select('post_uniqueId')\n",
    "#Print count\n",
    "UniqueId.count()"
   ]
  },
  {
   "cell_type": "code",
   "execution_count": null,
   "metadata": {},
   "outputs": [],
   "source": [
    "postDataWithUniqueId.schema"
   ]
  },
  {
   "cell_type": "code",
   "execution_count": null,
   "metadata": {
    "collapsed": true
   },
   "outputs": [],
   "source": [
    "#Removing post_mobile columns from dataframe\n",
    "#postDataWithoutMobile = postDataWithUniqueId.drop(*filter(lambda col: 'mobile' in col,postData.columns))\n",
    "#Printing no. of columns\n",
    "#len(postDataWithoutMobile.columns)"
   ]
  },
  {
   "cell_type": "code",
   "execution_count": null,
   "metadata": {
    "collapsed": true
   },
   "outputs": [],
   "source": [
    "#select users with cart,ship,chkout4_confirm in referrer\n",
    "#cartShipConfirmRows = postDataWithoutMobile.filter(postDataWithoutMobile.post_referrer.rlike(\"^(.)*(cart|CART|Cart|shipping|Ship|ship|chkout4_confirm)(.)*$\"))\n",
    "#cartShipConfirmRows.count()"
   ]
  },
  {
   "cell_type": "code",
   "execution_count": null,
   "metadata": {
    "collapsed": true
   },
   "outputs": [],
   "source": [
    "#Edit"
   ]
  },
  {
   "cell_type": "code",
   "execution_count": null,
   "metadata": {},
   "outputs": [],
   "source": [
    "#Edit\n",
    "#select users with cart,ship,chkout4_confirm in referrer\n",
    "cartDellRows = postDataWithUniqueId.filter(postDataWithUniqueId.post_prop14.rlike(\"^(.)*(dell.com)(.)*(cart)(.)*$\"))\n",
    "cartDellRows.count()"
   ]
  },
  {
   "cell_type": "code",
   "execution_count": null,
   "metadata": {},
   "outputs": [],
   "source": [
    "#storing all existing distinct users\n",
    "uniqueIdsWithCartDell = [list(x.asDict().values())[0] for x in cartDellRows.select(\"post_uniqueid\").distinct().collect()]\n",
    "print(\"{}\".format(len(uniqueIdsWithCartDell)))"
   ]
  },
  {
   "cell_type": "code",
   "execution_count": null,
   "metadata": {},
   "outputs": [],
   "source": [
    "#Get all rows of users having cart, ship, chkout4_confirm in post_referrer\n",
    "allRowsOfCartDellUsers = postDataWithUniqueId.where(postDataWithUniqueId.post_uniqueId.isin(uniqueIdsWithCartDell))\n",
    "#Print count\n",
    "allRowsOfCartDellUsersCount = allRowsOfCartDellUsers.count()\n",
    "allRowsOfCartDellUsersCount"
   ]
  },
  {
   "cell_type": "code",
   "execution_count": null,
   "metadata": {},
   "outputs": [],
   "source": [
    "#Regex to find event list having 1 at beginning, in middle and at end.\n",
    "event1CartDellRows = allRowsOfCartDellUsers.filter(allRowsOfCartDellUsers.post_event_list.rlike(\"^(1,[0-9 , . =]*|[0-9 , . =]*,1,[0-9 , . =]*|[0-9 , . =]*,1)$\"))\n",
    "#print count\n",
    "event1CartDellRows.count()"
   ]
  },
  {
   "cell_type": "code",
   "execution_count": null,
   "metadata": {},
   "outputs": [],
   "source": [
    "#Get unique Ids\n",
    "event1CartDellUniqueIds = [list(x.asDict().values())[0] for x in event1CartDellRows.select(\"post_uniqueid\").distinct().collect()]\n",
    "#print count\n",
    "print(\"{}\".format(len(event1CartDellUniqueIds)))"
   ]
  },
  {
   "cell_type": "code",
   "execution_count": null,
   "metadata": {},
   "outputs": [],
   "source": [
    "#Get abandoned userIds\n",
    "abandonedCartDellUsersIds = list(set(uniqueIdsWithCartDell) - set(event1CartDellUniqueIds))\n",
    "#print count\n",
    "print(\"{}\".format(len(abandonedCartDellUsersIds)))"
   ]
  },
  {
   "cell_type": "code",
   "execution_count": null,
   "metadata": {},
   "outputs": [],
   "source": [
    "#Reducing data by removing null columns\n",
    "allRowsOfCartDellUsersPDF = allRowsOfCartDellUsers.toPandas()\n",
    "allRowsOfCartDellUsersPDF.shape"
   ]
  },
  {
   "cell_type": "code",
   "execution_count": null,
   "metadata": {
    "collapsed": true
   },
   "outputs": [],
   "source": []
  },
  {
   "cell_type": "code",
   "execution_count": null,
   "metadata": {
    "collapsed": true
   },
   "outputs": [],
   "source": [
    "#Edit"
   ]
  },
  {
   "cell_type": "code",
   "execution_count": null,
   "metadata": {},
   "outputs": [],
   "source": [
    "#Removes any columns with null values\n",
    "rowsWithoutNullColumns = allRowsOfCartDellUsersPDF.dropna(axis=1,how='all')\n",
    "rowsWithoutNullColumns.shape"
   ]
  },
  {
   "cell_type": "code",
   "execution_count": null,
   "metadata": {},
   "outputs": [],
   "source": [
    "#Removing columns with 50% nulls \n",
    "rowsWithoutNullColumnsThresh50 = rowsWithoutNullColumns.dropna(axis=1,thresh=allRowsOfCartDellUsersCount/2)\n",
    "rowsWithoutNullColumnsThresh50.shape"
   ]
  },
  {
   "cell_type": "code",
   "execution_count": null,
   "metadata": {
    "collapsed": true
   },
   "outputs": [],
   "source": [
    "#test50 = rowsWithoutNullColumnsThresh50.copy()\n",
    "#test50.loc[test50['post_uniqueId'].str.isdigit(), 'post_uniqueId'] = pd.to_numeric(test50['post_uniqueId'], errors='coerce')\n",
    "#test50['post_uniqueId'] = test50['post_uniqueId'].astype(np.float64)\n",
    "#test50['post_uniqueId'] = test50['post_uniqueId'].astype(str)\n",
    "#test50.dtypes\n",
    "#test50.to_csv(\"test50.csv\", index=False)"
   ]
  },
  {
   "cell_type": "code",
   "execution_count": null,
   "metadata": {
    "collapsed": true
   },
   "outputs": [],
   "source": [
    "#Save dataframe to a csv file\n",
    "#rowsWithoutNullColumnsThresh50.to_csv(\"reducedusersrows.csv\", index=False)\n",
    "#Save dataframe to a tsv file\n",
    "rowsWithoutNullColumnsThresh50.to_csv(\"version1/reducedusersrows.tsv\", sep=\"\\t\", index=False)"
   ]
  },
  {
   "cell_type": "code",
   "execution_count": null,
   "metadata": {
    "collapsed": true
   },
   "outputs": [],
   "source": [
    "#Read csv file\n",
    "#allUsers = spark.read.csv(\"reducedusersrows.csv\",inferSchema =True, header=True)\n",
    "#Read tsv file\n",
    "allUsers = spark.read.option(\"sep\", \"\\t\").csv(\"version1/reducedusersrows.tsv\",inferSchema =True, header=True)\n",
    "#allUsers.printSchema()"
   ]
  },
  {
   "cell_type": "code",
   "execution_count": null,
   "metadata": {},
   "outputs": [],
   "source": [
    "allUsers.schema.names"
   ]
  },
  {
   "cell_type": "code",
   "execution_count": null,
   "metadata": {},
   "outputs": [],
   "source": [
    "#get all rows of abandoned users\n",
    "allRowsOfAbandonedUsers = allUsers.where(allUsers.post_uniqueId.isin(abandonedCartDellUsersIds))\n",
    "#print count\n",
    "allRowsOfAbandonedUsers.count()"
   ]
  },
  {
   "cell_type": "code",
   "execution_count": null,
   "metadata": {
    "collapsed": true
   },
   "outputs": [],
   "source": [
    "#Groupby abandoned users using post_uniqueId\n",
    "abandonedUsersGroupBy = allRowsOfAbandonedUsers.groupBy(\"post_uniqueId\").count()"
   ]
  },
  {
   "cell_type": "code",
   "execution_count": null,
   "metadata": {},
   "outputs": [],
   "source": [
    "abandonedUsersGroupBy.show()"
   ]
  },
  {
   "cell_type": "code",
   "execution_count": null,
   "metadata": {},
   "outputs": [],
   "source": [
    "#get all rows of purchased users\n",
    "allRowsOfPurchasedUsers = allUsers.where(allUsers.post_uniqueId.isin(event1CartDellUniqueIds))\n",
    "#print count\n",
    "allRowsOfPurchasedUsers.count()"
   ]
  },
  {
   "cell_type": "code",
   "execution_count": null,
   "metadata": {
    "collapsed": true
   },
   "outputs": [],
   "source": [
    "#Groupby purchased users using post_uniqueId\n",
    "purchasedUsersGroupBy = allRowsOfPurchasedUsers.groupBy(\"post_uniqueId\").count()"
   ]
  },
  {
   "cell_type": "code",
   "execution_count": null,
   "metadata": {},
   "outputs": [],
   "source": [
    "purchasedUsersGroupBy.show()"
   ]
  },
  {
   "cell_type": "code",
   "execution_count": null,
   "metadata": {
    "collapsed": true
   },
   "outputs": [],
   "source": [
    "#Displaying column names\n",
    "#allRowsOfPurchasedUsers.schema.names"
   ]
  },
  {
   "cell_type": "code",
   "execution_count": null,
   "metadata": {},
   "outputs": [],
   "source": [
    "#Selecting post_prop14 and post_referrer columns\n",
    "allRowsOfPurchasedUsers.select(\"post_prop14\",\"post_referrer\").show()"
   ]
  },
  {
   "cell_type": "code",
   "execution_count": null,
   "metadata": {},
   "outputs": [],
   "source": [
    "#Selecting evar34 and evar35 columns\n",
    "allRowsOfPurchasedUsers.select(\"post_evar34\",\"post_evar35\").show()"
   ]
  },
  {
   "cell_type": "code",
   "execution_count": null,
   "metadata": {
    "collapsed": true
   },
   "outputs": [],
   "source": [
    "#Displaying schema\n",
    "#allRowsOfPurchasedUsers.schema"
   ]
  },
  {
   "cell_type": "code",
   "execution_count": null,
   "metadata": {
    "collapsed": true
   },
   "outputs": [],
   "source": [
    "#Convert to pandas Dataframe\n",
    "purchasedPDF = allRowsOfPurchasedUsers.toPandas()"
   ]
  },
  {
   "cell_type": "code",
   "execution_count": null,
   "metadata": {},
   "outputs": [],
   "source": [
    "#print\n",
    "purchasedPDF"
   ]
  },
  {
   "cell_type": "code",
   "execution_count": null,
   "metadata": {
    "collapsed": true
   },
   "outputs": [],
   "source": [
    "#purchasedPDF1 = pd.concat([purchasedPDF[col].dropna().reset_index(drop=True) for col in purchasedPDF], axis=1)"
   ]
  },
  {
   "cell_type": "code",
   "execution_count": null,
   "metadata": {},
   "outputs": [],
   "source": [
    "#print column datatypes\n",
    "purchasedPDF.dtypes"
   ]
  },
  {
   "cell_type": "code",
   "execution_count": null,
   "metadata": {
    "collapsed": true
   },
   "outputs": [],
   "source": [
    "#converting columns to string type Not Working\n",
    "#purchasedPDF.astype(str)\n",
    "#purchasedPDF.dtypes"
   ]
  },
  {
   "cell_type": "code",
   "execution_count": null,
   "metadata": {
    "collapsed": true
   },
   "outputs": [],
   "source": [
    "#fill na values with none\n",
    "purchasedPDFFill = purchasedPDF.fillna('none')"
   ]
  },
  {
   "cell_type": "code",
   "execution_count": null,
   "metadata": {},
   "outputs": [],
   "source": [
    "#Convert all columns to string type\n",
    "purchasedPDFFillString = purchasedPDFFill.applymap(str)\n",
    "purchasedPDFFillString.dtypes"
   ]
  },
  {
   "cell_type": "code",
   "execution_count": null,
   "metadata": {
    "collapsed": true
   },
   "outputs": [],
   "source": [
    "purchasedSingleRow = pd.DataFrame()"
   ]
  },
  {
   "cell_type": "code",
   "execution_count": null,
   "metadata": {},
   "outputs": [],
   "source": [
    "#Storing uniqueid\n",
    "purchasedSingleRow['post_uniqueId'] = purchasedPDFFill.groupby(['post_uniqueId'])['post_uniqueId'].count().index.get_level_values('post_uniqueId')\n",
    "#purchasedSingleRow is a dataframe containing post_uniqueId column"
   ]
  },
  {
   "cell_type": "code",
   "execution_count": null,
   "metadata": {},
   "outputs": [],
   "source": [
    "type(purchasedSingleRow)"
   ]
  },
  {
   "cell_type": "code",
   "execution_count": null,
   "metadata": {},
   "outputs": [],
   "source": [
    "purchasedSingleRow"
   ]
  },
  {
   "cell_type": "code",
   "execution_count": null,
   "metadata": {
    "collapsed": true
   },
   "outputs": [],
   "source": [
    "#purchasedSingleRow.drop('index', axis = 1, inplace=True)"
   ]
  },
  {
   "cell_type": "code",
   "execution_count": null,
   "metadata": {
    "collapsed": true
   },
   "outputs": [],
   "source": [
    "for cols in purchasedPDFFillString.columns:\n",
    "    if (cols != 'post_uniqueId'):\n",
    "        temp = purchasedPDFFillString.groupby(['post_uniqueId'])[cols].apply(lambda x: '~'.join(x)).reset_index()\n",
    "        purchasedSingleRow[cols] = temp[cols]"
   ]
  },
  {
   "cell_type": "code",
   "execution_count": null,
   "metadata": {
    "scrolled": true
   },
   "outputs": [],
   "source": [
    "purchasedSingleRow"
   ]
  },
  {
   "cell_type": "code",
   "execution_count": null,
   "metadata": {},
   "outputs": [],
   "source": [
    "type(purchasedSingleRow)"
   ]
  },
  {
   "cell_type": "code",
   "execution_count": null,
   "metadata": {},
   "outputs": [],
   "source": [
    "#Convert to pandas Dataframe\n",
    "abandonedPDF = allRowsOfAbandonedUsers.toPandas()"
   ]
  },
  {
   "cell_type": "code",
   "execution_count": null,
   "metadata": {},
   "outputs": [],
   "source": [
    "#print\n",
    "abandonedPDF"
   ]
  },
  {
   "cell_type": "code",
   "execution_count": null,
   "metadata": {
    "collapsed": true
   },
   "outputs": [],
   "source": [
    "#purchasedPDF1 = pd.concat([purchasedPDF[col].dropna().reset_index(drop=True) for col in purchasedPDF], axis=1)"
   ]
  },
  {
   "cell_type": "code",
   "execution_count": null,
   "metadata": {},
   "outputs": [],
   "source": [
    "#print column datatypes\n",
    "abandonedPDF.dtypes"
   ]
  },
  {
   "cell_type": "code",
   "execution_count": null,
   "metadata": {
    "collapsed": true
   },
   "outputs": [],
   "source": [
    "#fill na values with none\n",
    "abandonedPDFFill = abandonedPDF.fillna('none')"
   ]
  },
  {
   "cell_type": "code",
   "execution_count": null,
   "metadata": {},
   "outputs": [],
   "source": [
    "#Convert all columns to string type\n",
    "abandonedPDFFillString = abandonedPDFFill.applymap(str)\n",
    "abandonedPDFFillString.dtypes"
   ]
  },
  {
   "cell_type": "code",
   "execution_count": null,
   "metadata": {
    "collapsed": true
   },
   "outputs": [],
   "source": [
    "abandonedSingleRow = pd.DataFrame()"
   ]
  },
  {
   "cell_type": "code",
   "execution_count": null,
   "metadata": {
    "collapsed": true
   },
   "outputs": [],
   "source": [
    "#Storing uniqueid\n",
    "abandonedSingleRow['post_uniqueId'] = abandonedPDFFill.groupby(['post_uniqueId'])['post_uniqueId'].count().index.get_level_values('post_uniqueId')\n",
    "#purchasedSingleRow is a dataframe containing post_uniqueId column"
   ]
  },
  {
   "cell_type": "code",
   "execution_count": null,
   "metadata": {},
   "outputs": [],
   "source": [
    "type(abandonedSingleRow)"
   ]
  },
  {
   "cell_type": "code",
   "execution_count": null,
   "metadata": {},
   "outputs": [],
   "source": [
    "abandonedSingleRow"
   ]
  },
  {
   "cell_type": "code",
   "execution_count": null,
   "metadata": {
    "collapsed": true
   },
   "outputs": [],
   "source": [
    "#purchasedSingleRow.drop('index', axis = 1, inplace=True)"
   ]
  },
  {
   "cell_type": "code",
   "execution_count": null,
   "metadata": {
    "collapsed": true
   },
   "outputs": [],
   "source": [
    "for cols in abandonedPDFFillString.columns:\n",
    "    if (cols != 'post_uniqueId'):\n",
    "        temp = abandonedPDFFillString.groupby(['post_uniqueId'])[cols].apply(lambda x: '~'.join(x)).reset_index()\n",
    "        abandonedSingleRow[cols] = temp[cols]"
   ]
  },
  {
   "cell_type": "code",
   "execution_count": null,
   "metadata": {},
   "outputs": [],
   "source": [
    "abandonedSingleRow"
   ]
  },
  {
   "cell_type": "code",
   "execution_count": null,
   "metadata": {
    "collapsed": true
   },
   "outputs": [],
   "source": []
  }
 ],
 "metadata": {
  "kernelspec": {
   "display_name": "Python 3",
   "language": "python",
   "name": "python3"
  }
 },
 "nbformat": 4,
 "nbformat_minor": 2
}
