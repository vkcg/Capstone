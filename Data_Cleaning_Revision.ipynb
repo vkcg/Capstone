{
 "cells": [
  {
   "cell_type": "code",
   "execution_count": null,
   "metadata": {
    "collapsed": true
   },
   "outputs": [],
   "source": [
    "#creating spark instance\n",
    "from pyspark.sql import SparkSession\n",
    "spark = SparkSession .builder.appName('datacleaningrevision').getOrCreate()"
   ]
  },
  {
   "cell_type": "code",
   "execution_count": null,
   "metadata": {
    "collapsed": true
   },
   "outputs": [],
   "source": [
    "#import libraries\n",
    "import pandas as pd\n",
    "import numpy as np"
   ]
  },
  {
   "cell_type": "code",
   "execution_count": null,
   "metadata": {
    "collapsed": true
   },
   "outputs": [],
   "source": [
    "from pyspark.sql import functions as sf"
   ]
  },
  {
   "cell_type": "code",
   "execution_count": null,
   "metadata": {
    "collapsed": true
   },
   "outputs": [],
   "source": [
    "#Read column names\n",
    "#headers = spark.read.option(\"sep\", \"\\t\").csv(\"..\\column_headers.tsv\",inferSchema =True, header=True)\n",
    "#headers.printSchema()"
   ]
  },
  {
   "cell_type": "code",
   "execution_count": null,
   "metadata": {
    "collapsed": true
   },
   "outputs": [],
   "source": [
    "#Read column names\n",
    "headers1 = spark.read.csv(\"sample1.csv\",inferSchema =True, header=True)\n",
    "#headers1.printSchema()"
   ]
  },
  {
   "cell_type": "code",
   "execution_count": null,
   "metadata": {
    "collapsed": true
   },
   "outputs": [],
   "source": [
    "#Read data from tsv file\n",
    "rows = spark.read.option(\"sep\", \"\\t\").csv(\"..\\hit_data.tsv\",inferSchema =True, header=False)\n",
    "#rows.printSchema()"
   ]
  },
  {
   "cell_type": "code",
   "execution_count": null,
   "metadata": {
    "collapsed": true
   },
   "outputs": [],
   "source": [
    "#adding header to data\n",
    "rowsWithHeader1 = headers1.union(rows)\n",
    "rowsWithHeader1.printSchema()"
   ]
  },
  {
   "cell_type": "code",
   "execution_count": null,
   "metadata": {
    "collapsed": true
   },
   "outputs": [],
   "source": [
    "rowsWithHeader1.count()"
   ]
  },
  {
   "cell_type": "code",
   "execution_count": null,
   "metadata": {
    "collapsed": true
   },
   "outputs": [],
   "source": [
    "#types = [f.dataType for f in rows.schema.fields]\n",
    "#sn = headers.schema.names"
   ]
  },
  {
   "cell_type": "code",
   "execution_count": null,
   "metadata": {
    "collapsed": true
   },
   "outputs": [],
   "source": [
    "#adding header to data\n",
    "#rowsWithHeader = headers.union(rows)\n",
    "#rowsWithHeader.dtypes\n",
    "#rowsCount = rowsWithHeader.count()\n",
    "#rowsCount"
   ]
  },
  {
   "cell_type": "code",
   "execution_count": null,
   "metadata": {
    "collapsed": true
   },
   "outputs": [],
   "source": [
    "#filtering rows based on exclude_hit column value. Removes all rows whose exclude_hit values less are <= 0\n",
    "rowsWithHeader1 = rowsWithHeader1.filter(rowsWithHeader1.exclude_hit<=0)"
   ]
  },
  {
   "cell_type": "code",
   "execution_count": null,
   "metadata": {
    "collapsed": true
   },
   "outputs": [],
   "source": [
    "#Print count\n",
    "rowsCount = rowsWithHeader1.count()\n",
    "rowsCount"
   ]
  },
  {
   "cell_type": "code",
   "execution_count": null,
   "metadata": {
    "collapsed": true
   },
   "outputs": [],
   "source": [
    "#filtering rows based on hit_source column value. Exclude all rows with hit_source = 5,7,8,9.\n",
    "rowsWithHeader1 = rowsWithHeader1.filter(rowsWithHeader1.hit_source!=5)\n",
    "rowsWithHeader1 = rowsWithHeader1.filter(rowsWithHeader1.hit_source!=7)\n",
    "rowsWithHeader1 = rowsWithHeader1.filter(rowsWithHeader1.hit_source!=8)\n",
    "rowsWithHeader1 = rowsWithHeader1.filter(rowsWithHeader1.hit_source!=9)"
   ]
  },
  {
   "cell_type": "code",
   "execution_count": null,
   "metadata": {
    "collapsed": true
   },
   "outputs": [],
   "source": [
    "#Selecting only post columns\n",
    "postData = rowsWithHeader1.select(*filter(lambda col: 'post_' in col,rowsWithHeader1.columns))"
   ]
  },
  {
   "cell_type": "code",
   "execution_count": null,
   "metadata": {
    "collapsed": true
   },
   "outputs": [],
   "source": [
    "#Printing no. of columns\n",
    "len(postData.columns)"
   ]
  },
  {
   "cell_type": "code",
   "execution_count": null,
   "metadata": {
    "collapsed": true
   },
   "outputs": [],
   "source": [
    "#Print count\n",
    "postRowsCount = postData.count()\n",
    "postRowsCount"
   ]
  },
  {
   "cell_type": "code",
   "execution_count": null,
   "metadata": {
    "collapsed": true
   },
   "outputs": [],
   "source": [
    "#Add a new column which conains values to idenify unique visitors\n",
    "MergedColumns = postData.withColumn('joined_column', sf.concat(sf.col('post_visid_high'),sf.lit(''), sf.col('post_visid_low')))"
   ]
  },
  {
   "cell_type": "code",
   "execution_count": null,
   "metadata": {
    "collapsed": true
   },
   "outputs": [],
   "source": [
    "#Renaming column in dataframe\n",
    "MergedColumns=MergedColumns.withColumnRenamed('joined_column', 'post_uniqueId')"
   ]
  },
  {
   "cell_type": "code",
   "execution_count": null,
   "metadata": {
    "collapsed": true
   },
   "outputs": [],
   "source": [
    "#Select the column post_uniqueID\n",
    "UniqueId=MergedColumns.select('post_uniqueId')\n",
    "#Print count\n",
    "UniqueId.count()"
   ]
  },
  {
   "cell_type": "code",
   "execution_count": null,
   "metadata": {
    "collapsed": true
   },
   "outputs": [],
   "source": [
    "#Removing post_mobile columns from dataframe\n",
    "postDataWithoutMobile = MergedColumns.drop(*filter(lambda col: 'mobile' in col,postData.columns))\n",
    "#Printing no. of columns\n",
    "len(postDataWithoutMobile.columns)"
   ]
  },
  {
   "cell_type": "code",
   "execution_count": null,
   "metadata": {
    "collapsed": true
   },
   "outputs": [],
   "source": [
    "#Print count\n",
    "postDataWithoutMobile.count()"
   ]
  },
  {
   "cell_type": "code",
   "execution_count": null,
   "metadata": {
    "collapsed": true
   },
   "outputs": [],
   "source": [
    "#Get column names\n",
    "columnNames = postDataWithoutMobile.schema.names\n",
    "#print column names\n",
    "#columnNames\n",
    "#type(columnNames)"
   ]
  },
  {
   "cell_type": "code",
   "execution_count": null,
   "metadata": {
    "collapsed": true,
    "scrolled": false
   },
   "outputs": [],
   "source": []
  },
  {
   "cell_type": "code",
   "execution_count": null,
   "metadata": {
    "collapsed": true
   },
   "outputs": [],
   "source": []
  },
  {
   "cell_type": "code",
   "execution_count": null,
   "metadata": {
    "collapsed": true
   },
   "outputs": [],
   "source": [
    "#Takes more time to compute as it has to iterate through each row for each column in columnNames\n",
    "#nonNullColumns = []\n",
    "#for name in columnNames:\n",
    "#    if(postData.where(postDataWithoutMobile[name].isNotNull()).count() == postRowsCount):\n",
    "#        nonNullColumns.append(name)"
   ]
  },
  {
   "cell_type": "code",
   "execution_count": null,
   "metadata": {
    "collapsed": true
   },
   "outputs": [],
   "source": [
    "#nonNullColumns"
   ]
  },
  {
   "cell_type": "code",
   "execution_count": null,
   "metadata": {
    "collapsed": true
   },
   "outputs": [],
   "source": [
    "#import pyspark.sql.functions as func\n",
    "\n",
    "#for col in postData.columns:\n",
    "#    if (postData.filter(func.col(col).isNull()).count() == postData.select(func.col(col)).count()):\n",
    "#        postData = postData.drop(col)\n",
    "#    else:\n",
    "#        print('did not drop' + col )"
   ]
  },
  {
   "cell_type": "code",
   "execution_count": null,
   "metadata": {
    "collapsed": true
   },
   "outputs": [],
   "source": [
    "#Display post_referrer column\n",
    "postDataWithoutMobile.select('post_referrer').show()"
   ]
  },
  {
   "cell_type": "code",
   "execution_count": null,
   "metadata": {
    "collapsed": true
   },
   "outputs": [],
   "source": [
    "#select users with cart in referrer\n",
    "cartRows = postDataWithoutMobile.filter(postDataWithoutMobile.post_referrer.rlike(\"^(.)*(cart|CART|Cart)(.)*+$\"))"
   ]
  },
  {
   "cell_type": "code",
   "execution_count": null,
   "metadata": {
    "collapsed": true
   },
   "outputs": [],
   "source": [
    "#Print count\n",
    "cartRows.count()"
   ]
  },
  {
   "cell_type": "code",
   "execution_count": null,
   "metadata": {
    "collapsed": true
   },
   "outputs": [],
   "source": [
    "#list(cartRows)\n",
    "#cartRows.select('post_referrer').show()"
   ]
  },
  {
   "cell_type": "code",
   "execution_count": null,
   "metadata": {
    "collapsed": true
   },
   "outputs": [],
   "source": [
    "#storing all existing distinct users\n",
    "allids = [list(x.asDict().values())[0] for x in cartRows.select(\"post_uniqueid\").distinct().collect()]"
   ]
  },
  {
   "cell_type": "code",
   "execution_count": null,
   "metadata": {
    "collapsed": true
   },
   "outputs": [],
   "source": [
    "#Print count\n",
    "print(\"{}\".format(len(allids)))"
   ]
  },
  {
   "cell_type": "code",
   "execution_count": null,
   "metadata": {
    "collapsed": true
   },
   "outputs": [],
   "source": [
    "#loop through and print all rows of ids\n",
    "#for x in allids[0:3]:\n",
    "#    postDataWithoutMobile.where(postDataWithoutMobile.post_uniqueId == x).show(5,False)"
   ]
  },
  {
   "cell_type": "code",
   "execution_count": null,
   "metadata": {
    "collapsed": true
   },
   "outputs": [],
   "source": [
    "#Converting to pandas dataframe\n",
    "cartPDF = cartRows.toPandas()\n",
    "cartPDF.shape"
   ]
  },
  {
   "cell_type": "code",
   "execution_count": null,
   "metadata": {
    "collapsed": true
   },
   "outputs": [],
   "source": [
    "#combining post_visid_high with post_visid_low and storing the value in new column newuid.\n",
    "#which is used to identify unique visitor.\n",
    "#cartPDF['newuid'] = cartPDF.post_visid_high.astype(str) + cartPDF.post_visid_low.astype(str)\n",
    "#cartPDF.shape"
   ]
  },
  {
   "cell_type": "code",
   "execution_count": null,
   "metadata": {
    "collapsed": true
   },
   "outputs": [],
   "source": [
    "#cartPDF['newuid']"
   ]
  },
  {
   "cell_type": "code",
   "execution_count": null,
   "metadata": {
    "collapsed": true
   },
   "outputs": [],
   "source": [
    "#Removes any columns with null values\n",
    "cartRowsWithoutNullColumns = cartPDF.dropna(axis=1,how='all')\n",
    "cartRowsWithoutNullColumns.shape"
   ]
  },
  {
   "cell_type": "code",
   "execution_count": null,
   "metadata": {
    "collapsed": true
   },
   "outputs": [],
   "source": [
    "#Get distinct values of post_uniqueId column\n",
    "uniqueCartUsers = cartPDF.post_uniqueId.unique()\n",
    "len(uniqueCartUsers)"
   ]
  },
  {
   "cell_type": "code",
   "execution_count": null,
   "metadata": {
    "collapsed": true
   },
   "outputs": [],
   "source": [
    "#Regex to find event list having 1 at beginning, in middle and at end.\n",
    "event1Rows = postDataWithoutMobile.filter(postDataWithoutMobile.post_event_list.rlike(\"^(1,[0-9 , . =]*|[0-9 , . =]*,1,[0-9 , . =]*|[0-9 , . =]*,1)$\"))"
   ]
  },
  {
   "cell_type": "code",
   "execution_count": null,
   "metadata": {
    "collapsed": true
   },
   "outputs": [],
   "source": [
    "#Displays top 20 rows\n",
    "event1Rows.show()"
   ]
  },
  {
   "cell_type": "code",
   "execution_count": null,
   "metadata": {
    "collapsed": true
   },
   "outputs": [],
   "source": [
    "event1Rows.select(\"post_event_list\",\"post_uniqueId\").show()"
   ]
  },
  {
   "cell_type": "code",
   "execution_count": null,
   "metadata": {
    "collapsed": true
   },
   "outputs": [],
   "source": [
    "event1Rows.count()"
   ]
  },
  {
   "cell_type": "code",
   "execution_count": null,
   "metadata": {
    "collapsed": true
   },
   "outputs": [],
   "source": [
    "#convert to pandas dataframe\n",
    "pandasDF = event1Rows.toPandas()"
   ]
  },
  {
   "cell_type": "code",
   "execution_count": null,
   "metadata": {
    "collapsed": true
   },
   "outputs": [],
   "source": [
    "pandasDF"
   ]
  },
  {
   "cell_type": "code",
   "execution_count": null,
   "metadata": {
    "collapsed": true
   },
   "outputs": [],
   "source": [
    "pandasDF.shape"
   ]
  },
  {
   "cell_type": "code",
   "execution_count": null,
   "metadata": {
    "collapsed": true
   },
   "outputs": [],
   "source": [
    "#combining post_visid_high with post_visid_low and storing the value in new column newuid.\n",
    "#which is used to identify unique visitor. post_uniqueId has already been added.\n",
    "#pandasDF['newuid'] = pandasDF.post_visid_high + pandasDF.post_visid_low"
   ]
  },
  {
   "cell_type": "code",
   "execution_count": null,
   "metadata": {
    "collapsed": true
   },
   "outputs": [],
   "source": [
    "pandasDF.dtypes"
   ]
  },
  {
   "cell_type": "code",
   "execution_count": null,
   "metadata": {
    "collapsed": true
   },
   "outputs": [],
   "source": [
    "event1Count = len(pandasDF.index)"
   ]
  },
  {
   "cell_type": "code",
   "execution_count": null,
   "metadata": {
    "collapsed": true
   },
   "outputs": [],
   "source": [
    "event1Count"
   ]
  },
  {
   "cell_type": "code",
   "execution_count": null,
   "metadata": {
    "collapsed": true
   },
   "outputs": [],
   "source": [
    "#Removes any columns with null values\n",
    "pandasDFWithoutNullColumns = pandasDF.dropna(axis=1,how='all')"
   ]
  },
  {
   "cell_type": "code",
   "execution_count": null,
   "metadata": {
    "collapsed": true
   },
   "outputs": [],
   "source": [
    "pandasDFWithoutNullColumns.shape"
   ]
  },
  {
   "cell_type": "code",
   "execution_count": null,
   "metadata": {
    "collapsed": true
   },
   "outputs": [],
   "source": [
    "pandasDFWithoutNullColumnsNames = list(pandasDFWithoutNullColumns)"
   ]
  },
  {
   "cell_type": "code",
   "execution_count": null,
   "metadata": {
    "collapsed": true
   },
   "outputs": [],
   "source": [
    "pandasDFWithoutNullColumnsNames"
   ]
  },
  {
   "cell_type": "code",
   "execution_count": null,
   "metadata": {
    "collapsed": true
   },
   "outputs": [],
   "source": [
    "#Drops duplicate columns and also drops null columns\n",
    "pandasDFWithoutDuplicateColumns = pandasDFWithoutNullColumns.T.drop_duplicates().T"
   ]
  },
  {
   "cell_type": "code",
   "execution_count": null,
   "metadata": {
    "collapsed": true
   },
   "outputs": [],
   "source": [
    "pandasDFWithoutDuplicateColumnsNames = list(pandasDFWithoutDuplicateColumns)"
   ]
  },
  {
   "cell_type": "code",
   "execution_count": null,
   "metadata": {
    "collapsed": true
   },
   "outputs": [],
   "source": [
    "removedDuplicateColumns = list(set(pandasDFWithoutNullColumnsNames) - set(pandasDFWithoutDuplicateColumnsNames))"
   ]
  },
  {
   "cell_type": "code",
   "execution_count": null,
   "metadata": {
    "collapsed": true
   },
   "outputs": [],
   "source": [
    "removedDuplicateColumns"
   ]
  },
  {
   "cell_type": "code",
   "execution_count": null,
   "metadata": {
    "collapsed": true
   },
   "outputs": [],
   "source": [
    "pandasDFWithoutDuplicateColumns.shape"
   ]
  },
  {
   "cell_type": "code",
   "execution_count": null,
   "metadata": {
    "collapsed": true
   },
   "outputs": [],
   "source": [
    "list(pandasDFWithoutDuplicateColumns)"
   ]
  },
  {
   "cell_type": "code",
   "execution_count": null,
   "metadata": {
    "collapsed": true
   },
   "outputs": [],
   "source": [
    "pandasDFWithoutDuplicateColumns"
   ]
  },
  {
   "cell_type": "code",
   "execution_count": null,
   "metadata": {
    "collapsed": true
   },
   "outputs": [],
   "source": [
    "result1 = pandasDFWithoutDuplicateColumns.dropna(axis=1,thresh=event1Count/2)"
   ]
  },
  {
   "cell_type": "code",
   "execution_count": null,
   "metadata": {
    "collapsed": true
   },
   "outputs": [],
   "source": [
    "result1.shape"
   ]
  },
  {
   "cell_type": "code",
   "execution_count": null,
   "metadata": {
    "collapsed": true
   },
   "outputs": [],
   "source": [
    "list(result1)"
   ]
  },
  {
   "cell_type": "code",
   "execution_count": null,
   "metadata": {
    "collapsed": true
   },
   "outputs": [],
   "source": [
    "result1['post_referrer']"
   ]
  },
  {
   "cell_type": "code",
   "execution_count": null,
   "metadata": {
    "collapsed": true
   },
   "outputs": [],
   "source": []
  }
 ],
 "metadata": {
  "kernelspec": {
   "display_name": "Python 3",
   "language": "python",
   "name": "python3"
  },
  "language_info": {
   "codemirror_mode": {
    "name": "ipython",
    "version": 3
   },
   "file_extension": ".py",
   "mimetype": "text/x-python",
   "name": "python",
   "nbconvert_exporter": "python",
   "pygments_lexer": "ipython3",
   "version": "3.6.3"
  }
 },
 "nbformat": 4,
 "nbformat_minor": 2
}
